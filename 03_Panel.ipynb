{
 "cells": [
  {
   "cell_type": "code",
   "execution_count": 78,
   "id": "8909363e",
   "metadata": {},
   "outputs": [],
   "source": [
    "import pandas as pd\n",
    "pd.options.mode.chained_assignment = None  # default='warn'\n",
    "import numpy as np\n",
    "import matplotlib.pyplot as ppt\n",
    "from sklearn import linear_model\n",
    "import statsmodels.api as sm\n",
    "from stargazer.stargazer import Stargazer\n",
    "from linearmodels import OLS\n",
    "from linearmodels import PanelOLS\n",
    "from linearmodels import PooledOLS\n",
    "from statsmodels.stats.diagnostic import het_white, het_breuschpagan\n",
    "from statsmodels.stats.stattools import durbin_watson"
   ]
  },
  {
   "cell_type": "markdown",
   "id": "9a4c802f",
   "metadata": {},
   "source": [
    "# Functions"
   ]
  },
  {
   "cell_type": "code",
   "execution_count": 79,
   "id": "122c2cc6",
   "metadata": {},
   "outputs": [],
   "source": [
    "def plot_residuals_for_variance(exog,endog):\n",
    "    # Perform PooledOLS\n",
    "    mod = PooledOLS(endog, exog)\n",
    "    pooledOLS_res = mod.fit(cov_type='clustered', cluster_entity=True)\n",
    "    # Store values for checking homoskedasticity graphically\n",
    "    fittedvals_pooled_OLS = pooledOLS_res.predict().fitted_values\n",
    "    residuals_pooled_OLS = pooledOLS_res.resids\n",
    "    # 3A. Homoskedasticity\n",
    "    #import matplotlib.pyplot as plt\n",
    "     # 3A.1 Residuals-Plot for growing Variance Detection\n",
    "    fig, ax = ppt.subplots()\n",
    "    ax.scatter(fittedvals_pooled_OLS, residuals_pooled_OLS, color = 'blue')\n",
    "    ax.axhline(0, color = 'r', ls = '--')\n",
    "    ax.set_xlabel('Predicted Values', fontsize = 15)\n",
    "    ax.set_ylabel('Residuals', fontsize = 15)\n",
    "    ax.set_title('Homoskedasticity Test', fontsize = 30)\n",
    "    ppt.show()\n",
    "    return residuals_pooled_OLS\n",
    "\n",
    "def do_WhiteTest(df_panel,residuals_pooled_OLS,exog,endog):\n",
    "    # --> heteroskedasticity if growing variance\n",
    "    # 3A.2 White-Test\n",
    "    pooled_OLS_dataset = pd.concat([df_panel, residuals_pooled_OLS], axis=1)\n",
    "    #pooled_OLS_dataset = pooled_OLS_dataset.drop(['year'], axis = 1).fillna(0)\n",
    "    #pooled_OLS_dataset.head()\n",
    "    exog = sm.tools.tools.add_constant(exog).fillna(0)\n",
    "    white_test_results = het_white(pooled_OLS_dataset['residual'], exog)\n",
    "    print('White test: Heteroscedasticity cannot be refused if p-Value close to zero')\n",
    "    labels = ['LM-Stat', 'LM p-val', 'F-Stat', 'F p-val'] \n",
    "    print(dict(zip(labels, white_test_results)))\n",
    "    # 3A.3 Breusch-Pagan-Test\n",
    "    breusch_pagan_test_results = het_breuschpagan(pooled_OLS_dataset['residual'], exog)\n",
    "    print('Breusch-Pagan test: Heteroscedasticity cannot be refused if p-Value close to zero')\n",
    "    labels = ['LM-Stat', 'LM p-val', 'F-Stat', 'F p-val'] \n",
    "    print(dict(zip(labels, breusch_pagan_test_results)))\n",
    "    return pooled_OLS_dataset\n",
    "\n",
    "def do_DurbinWatsonTest(pooled_OLS_dataset):\n",
    "    # 3.B Non-Autocorrelation\n",
    "    # Durbin-Watson-Test\n",
    "    durbin_watson_test_results = durbin_watson(pooled_OLS_dataset['residual']) \n",
    "    print('Durbin-Watson test: [0,2) - pos autocorrelation; 2 - no autocorr; (2,4] - neg autocorrelation')\n",
    "    print(durbin_watson_test_results)\n",
    "    # --> [0,2) - pos autocorrelation; 2 - no autocorr; (2,4] - neg autocorrelation"
   ]
  },
  {
   "cell_type": "markdown",
   "id": "195f5d8f",
   "metadata": {},
   "source": [
    "# Test models"
   ]
  },
  {
   "cell_type": "code",
   "execution_count": 80,
   "id": "53704c34",
   "metadata": {},
   "outputs": [],
   "source": [
    "# Create panel\n",
    "first_year = 2014\n",
    "last_year = 2020\n",
    "N = 600\n",
    "entity_list = [str(i).zfill(3) for t in range(first_year,last_year+1) for i in range(N)]\n",
    "df_panel = pd.DataFrame(index=range(len(entity_list)),columns=['year','RS'])\n",
    "df_panel['year'] = list(range(first_year,last_year+1))*N\n",
    "df_panel['RS'] = entity_list\n",
    "df_panel.set_index(['RS','year'],inplace=True)\n",
    "df_panel['const'] = 1."
   ]
  },
  {
   "cell_type": "markdown",
   "id": "6397968c",
   "metadata": {},
   "source": [
    "# Linear model without time dependencies"
   ]
  },
  {
   "cell_type": "code",
   "execution_count": 81,
   "id": "61fefb32",
   "metadata": {},
   "outputs": [
    {
     "data": {
      "text/html": [
       "<div>\n",
       "<style scoped>\n",
       "    .dataframe tbody tr th:only-of-type {\n",
       "        vertical-align: middle;\n",
       "    }\n",
       "\n",
       "    .dataframe tbody tr th {\n",
       "        vertical-align: top;\n",
       "    }\n",
       "\n",
       "    .dataframe thead th {\n",
       "        text-align: right;\n",
       "    }\n",
       "</style>\n",
       "<table border=\"1\" class=\"dataframe\">\n",
       "  <thead>\n",
       "    <tr style=\"text-align: right;\">\n",
       "      <th></th>\n",
       "      <th></th>\n",
       "      <th>const</th>\n",
       "      <th>x</th>\n",
       "      <th>eps</th>\n",
       "      <th>y</th>\n",
       "    </tr>\n",
       "    <tr>\n",
       "      <th>RS</th>\n",
       "      <th>year</th>\n",
       "      <th></th>\n",
       "      <th></th>\n",
       "      <th></th>\n",
       "      <th></th>\n",
       "    </tr>\n",
       "  </thead>\n",
       "  <tbody>\n",
       "    <tr>\n",
       "      <th>000</th>\n",
       "      <th>2014</th>\n",
       "      <td>1.0</td>\n",
       "      <td>0</td>\n",
       "      <td>0.363302</td>\n",
       "      <td>10.363302</td>\n",
       "    </tr>\n",
       "    <tr>\n",
       "      <th>001</th>\n",
       "      <th>2015</th>\n",
       "      <td>1.0</td>\n",
       "      <td>3</td>\n",
       "      <td>1.228159</td>\n",
       "      <td>17.228159</td>\n",
       "    </tr>\n",
       "    <tr>\n",
       "      <th>002</th>\n",
       "      <th>2016</th>\n",
       "      <td>1.0</td>\n",
       "      <td>5</td>\n",
       "      <td>-1.178146</td>\n",
       "      <td>18.821854</td>\n",
       "    </tr>\n",
       "    <tr>\n",
       "      <th>003</th>\n",
       "      <th>2017</th>\n",
       "      <td>1.0</td>\n",
       "      <td>5</td>\n",
       "      <td>0.606930</td>\n",
       "      <td>20.606930</td>\n",
       "    </tr>\n",
       "    <tr>\n",
       "      <th>004</th>\n",
       "      <th>2018</th>\n",
       "      <td>1.0</td>\n",
       "      <td>3</td>\n",
       "      <td>-1.326205</td>\n",
       "      <td>14.673795</td>\n",
       "    </tr>\n",
       "  </tbody>\n",
       "</table>\n",
       "</div>"
      ],
      "text/plain": [
       "          const  x       eps          y\n",
       "RS  year                               \n",
       "000 2014    1.0  0  0.363302  10.363302\n",
       "001 2015    1.0  3  1.228159  17.228159\n",
       "002 2016    1.0  5 -1.178146  18.821854\n",
       "003 2017    1.0  5  0.606930  20.606930\n",
       "004 2018    1.0  3 -1.326205  14.673795"
      ]
     },
     "execution_count": 81,
     "metadata": {},
     "output_type": "execute_result"
    }
   ],
   "source": [
    "# Create data\n",
    "a = 10.\n",
    "b = 2.\n",
    "sigma = 1.\n",
    "df_panel['x'] = np.random.randint(0, 10, df_panel.shape[0])\n",
    "df_panel['eps'] = np.random.normal(0, sigma, df_panel.shape[0])\n",
    "df_panel['y'] = a + b*df_panel['x'] + df_panel['eps']\n",
    "df_panel.head()"
   ]
  },
  {
   "cell_type": "code",
   "execution_count": 82,
   "id": "960d3059",
   "metadata": {},
   "outputs": [
    {
     "name": "stdout",
     "output_type": "stream",
     "text": [
      "                            OLS Estimation Summary                            \n",
      "==============================================================================\n",
      "Dep. Variable:                      y   R-squared:                      0.9726\n",
      "Estimator:                        OLS   Adj. R-squared:                 0.9726\n",
      "No. Observations:                4200   F-statistic:                 1.501e+05\n",
      "Date:                Fri, Jul 02 2021   P-value (F-stat)                0.0000\n",
      "Time:                        11:02:52   Distribution:                  chi2(1)\n",
      "Cov. Estimator:                robust                                         \n",
      "                                                                              \n",
      "                             Parameter Estimates                              \n",
      "==============================================================================\n",
      "            Parameter  Std. Err.     T-stat    P-value    Lower CI    Upper CI\n",
      "------------------------------------------------------------------------------\n",
      "const          10.008     0.0277     361.16     0.0000      9.9533      10.062\n",
      "x              2.0001     0.0052     387.48     0.0000      1.9899      2.0102\n",
      "==============================================================================\n"
     ]
    }
   ],
   "source": [
    "exog = df_panel[['const','x']]\n",
    "endog = df_panel['y']\n",
    "mod = OLS(endog, exog) #, entity_effects=True,time_effects=True)\n",
    "res = mod.fit() #cov_type='clustered', cluster_entity=True)\n",
    "print(res)"
   ]
  },
  {
   "cell_type": "code",
   "execution_count": 83,
   "id": "2d5ae024",
   "metadata": {
    "scrolled": true
   },
   "outputs": [
    {
     "data": {
      "image/png": "[encoded data removed]",
      "text/plain": [
       "<Figure size 432x288 with 1 Axes>"
      ]
     },
     "metadata": {
      "needs_background": "light"
     },
     "output_type": "display_data"
    },
    {
     "name": "stdout",
     "output_type": "stream",
     "text": [
      "White test: Heteroscedasticity cannot be refused if p-Value close to zero\n",
      "{'LM-Stat': 0.35795510066356506, 'LM p-val': 0.8361246699077667, 'F-Stat': 0.17886495342019512, 'F p-val': 0.8362251942109009}\n",
      "Breusch-Pagan test: Heteroscedasticity cannot be refused if p-Value close to zero\n",
      "{'LM-Stat': 0.20187335672858797, 'LM p-val': 0.6532129567541054, 'F-Stat': 0.20178692546441512, 'F p-val': 0.6533055298603516}\n",
      "Durbin-Watson test: [0,2) - pos autocorrelation; 2 - no autocorr; (2,4] - neg autocorrelation\n",
      "2.01301656403157\n"
     ]
    }
   ],
   "source": [
    "# Test for endogeneity\n",
    "exog = df_panel[['const','x']]\n",
    "endog = df_panel['y']\n",
    "residuals_pooled_OLS = plot_residuals_for_variance(exog,endog)\n",
    "pooled_OLS_dataset = do_WhiteTest(df_panel,residuals_pooled_OLS,exog,endog)\n",
    "do_DurbinWatsonTest(pooled_OLS_dataset)"
   ]
  },
  {
   "cell_type": "code",
   "execution_count": 84,
   "id": "45cbc7d3",
   "metadata": {
    "scrolled": true
   },
   "outputs": [
    {
     "name": "stdout",
     "output_type": "stream",
     "text": [
      "                          PanelOLS Estimation Summary                           \n",
      "================================================================================\n",
      "Dep. Variable:                      y   R-squared:                        0.9725\n",
      "Estimator:                   PanelOLS   R-squared (Between):              0.9716\n",
      "No. Observations:                4200   R-squared (Within):               0.9727\n",
      "Date:                Fri, Jul 02 2021   R-squared (Overall):              0.9726\n",
      "Time:                        11:03:00   Log-likelihood                   -5837.6\n",
      "Cov. Estimator:             Clustered                                           \n",
      "                                        F-statistic:                   1.484e+05\n",
      "Entities:                         600   P-value                           0.0000\n",
      "Avg Obs:                       7.0000   Distribution:                  F(1,4192)\n",
      "Min Obs:                       7.0000                                           \n",
      "Max Obs:                       7.0000   F-statistic (robust):          1.569e+05\n",
      "                                        P-value                           0.0000\n",
      "Time periods:                       7   Distribution:                  F(1,4192)\n",
      "Avg Obs:                       600.00                                           \n",
      "Min Obs:                       600.00                                           \n",
      "Max Obs:                       600.00                                           \n",
      "                                                                                \n",
      "                             Parameter Estimates                              \n",
      "==============================================================================\n",
      "            Parameter  Std. Err.     T-stat    P-value    Lower CI    Upper CI\n",
      "------------------------------------------------------------------------------\n",
      "const          10.010     0.0266     376.12     0.0000      9.9575      10.062\n",
      "x              1.9996     0.0050     396.09     0.0000      1.9897      2.0095\n",
      "==============================================================================\n",
      "\n",
      "F-test for Poolability: 1.0809\n",
      "P-value: 0.3712\n",
      "Distribution: F(6,4192)\n",
      "\n",
      "Included effects: Time\n"
     ]
    }
   ],
   "source": [
    "# With fixed-effects\n",
    "mod = PanelOLS(endog, exog, time_effects=True)\n",
    "res = mod.fit(cov_type='clustered', cluster_entity=True)\n",
    "print(res)"
   ]
  },
  {
   "cell_type": "markdown",
   "id": "9a6ff31d",
   "metadata": {},
   "source": [
    "\"I can pool\" cannot be rejected --> pooling is ok."
   ]
  },
  {
   "cell_type": "markdown",
   "id": "d523bbed",
   "metadata": {},
   "source": [
    "# Linear model with random time effects"
   ]
  },
  {
   "cell_type": "code",
   "execution_count": 87,
   "id": "70cdf03e",
   "metadata": {},
   "outputs": [
    {
     "data": {
      "text/html": [
       "<div>\n",
       "<style scoped>\n",
       "    .dataframe tbody tr th:only-of-type {\n",
       "        vertical-align: middle;\n",
       "    }\n",
       "\n",
       "    .dataframe tbody tr th {\n",
       "        vertical-align: top;\n",
       "    }\n",
       "\n",
       "    .dataframe thead th {\n",
       "        text-align: right;\n",
       "    }\n",
       "</style>\n",
       "<table border=\"1\" class=\"dataframe\">\n",
       "  <thead>\n",
       "    <tr style=\"text-align: right;\">\n",
       "      <th></th>\n",
       "      <th></th>\n",
       "      <th>const</th>\n",
       "      <th>x</th>\n",
       "      <th>eps</th>\n",
       "      <th>y</th>\n",
       "      <th>time_FE</th>\n",
       "    </tr>\n",
       "    <tr>\n",
       "      <th>RS</th>\n",
       "      <th>year</th>\n",
       "      <th></th>\n",
       "      <th></th>\n",
       "      <th></th>\n",
       "      <th></th>\n",
       "      <th></th>\n",
       "    </tr>\n",
       "  </thead>\n",
       "  <tbody>\n",
       "    <tr>\n",
       "      <th>000</th>\n",
       "      <th>2014</th>\n",
       "      <td>1.0</td>\n",
       "      <td>7</td>\n",
       "      <td>0.545235</td>\n",
       "      <td>28.545235</td>\n",
       "      <td>4</td>\n",
       "    </tr>\n",
       "    <tr>\n",
       "      <th>001</th>\n",
       "      <th>2015</th>\n",
       "      <td>1.0</td>\n",
       "      <td>2</td>\n",
       "      <td>-0.637742</td>\n",
       "      <td>13.362258</td>\n",
       "      <td>0</td>\n",
       "    </tr>\n",
       "    <tr>\n",
       "      <th>002</th>\n",
       "      <th>2016</th>\n",
       "      <td>1.0</td>\n",
       "      <td>8</td>\n",
       "      <td>0.727018</td>\n",
       "      <td>28.727018</td>\n",
       "      <td>2</td>\n",
       "    </tr>\n",
       "    <tr>\n",
       "      <th>003</th>\n",
       "      <th>2017</th>\n",
       "      <td>1.0</td>\n",
       "      <td>4</td>\n",
       "      <td>0.952010</td>\n",
       "      <td>19.952010</td>\n",
       "      <td>1</td>\n",
       "    </tr>\n",
       "    <tr>\n",
       "      <th>004</th>\n",
       "      <th>2018</th>\n",
       "      <td>1.0</td>\n",
       "      <td>1</td>\n",
       "      <td>1.565227</td>\n",
       "      <td>15.565227</td>\n",
       "      <td>2</td>\n",
       "    </tr>\n",
       "    <tr>\n",
       "      <th>005</th>\n",
       "      <th>2019</th>\n",
       "      <td>1.0</td>\n",
       "      <td>9</td>\n",
       "      <td>-1.474712</td>\n",
       "      <td>28.525288</td>\n",
       "      <td>2</td>\n",
       "    </tr>\n",
       "    <tr>\n",
       "      <th>006</th>\n",
       "      <th>2020</th>\n",
       "      <td>1.0</td>\n",
       "      <td>8</td>\n",
       "      <td>-0.398030</td>\n",
       "      <td>26.601970</td>\n",
       "      <td>1</td>\n",
       "    </tr>\n",
       "    <tr>\n",
       "      <th>007</th>\n",
       "      <th>2014</th>\n",
       "      <td>1.0</td>\n",
       "      <td>6</td>\n",
       "      <td>0.042953</td>\n",
       "      <td>26.042953</td>\n",
       "      <td>4</td>\n",
       "    </tr>\n",
       "    <tr>\n",
       "      <th>008</th>\n",
       "      <th>2015</th>\n",
       "      <td>1.0</td>\n",
       "      <td>9</td>\n",
       "      <td>1.345194</td>\n",
       "      <td>29.345194</td>\n",
       "      <td>0</td>\n",
       "    </tr>\n",
       "    <tr>\n",
       "      <th>009</th>\n",
       "      <th>2016</th>\n",
       "      <td>1.0</td>\n",
       "      <td>8</td>\n",
       "      <td>-1.142694</td>\n",
       "      <td>26.857306</td>\n",
       "      <td>2</td>\n",
       "    </tr>\n",
       "  </tbody>\n",
       "</table>\n",
       "</div>"
      ],
      "text/plain": [
       "          const  x       eps          y  time_FE\n",
       "RS  year                                        \n",
       "000 2014    1.0  7  0.545235  28.545235        4\n",
       "001 2015    1.0  2 -0.637742  13.362258        0\n",
       "002 2016    1.0  8  0.727018  28.727018        2\n",
       "003 2017    1.0  4  0.952010  19.952010        1\n",
       "004 2018    1.0  1  1.565227  15.565227        2\n",
       "005 2019    1.0  9 -1.474712  28.525288        2\n",
       "006 2020    1.0  8 -0.398030  26.601970        1\n",
       "007 2014    1.0  6  0.042953  26.042953        4\n",
       "008 2015    1.0  9  1.345194  29.345194        0\n",
       "009 2016    1.0  8 -1.142694  26.857306        2"
      ]
     },
     "execution_count": 87,
     "metadata": {},
     "output_type": "execute_result"
    }
   ],
   "source": [
    "# Create data\n",
    "a = 10.\n",
    "b = 2.\n",
    "sigma = 1.\n",
    "df_panel['x'] = np.random.randint(0, 10, df_panel.shape[0])\n",
    "df_panel['time_FE'] = 0\n",
    "for year in range(first_year,last_year+1):\n",
    "    df_panel['time_FE'].loc[df_panel.index.get_level_values(1) == year] = np.random.randint(0, 5)\n",
    "df_panel['eps'] = np.random.normal(0, sigma, df_panel.shape[0])\n",
    "df_panel['y'] = a + b*df_panel['x'] + df_panel['time_FE'] + df_panel['eps']\n",
    "df_panel.iloc[:10]"
   ]
  },
  {
   "cell_type": "code",
   "execution_count": 88,
   "id": "ed9dc07b",
   "metadata": {},
   "outputs": [
    {
     "name": "stdout",
     "output_type": "stream",
     "text": [
      "                            OLS Estimation Summary                            \n",
      "==============================================================================\n",
      "Dep. Variable:                      y   R-squared:                      0.9323\n",
      "Estimator:                        OLS   Adj. R-squared:                 0.9323\n",
      "No. Observations:                4200   F-statistic:                 5.795e+04\n",
      "Date:                Fri, Jul 02 2021   P-value (F-stat)                0.0000\n",
      "Time:                        11:06:20   Distribution:                  chi2(1)\n",
      "Cov. Estimator:                robust                                         \n",
      "                                                                              \n",
      "                             Parameter Estimates                              \n",
      "==============================================================================\n",
      "            Parameter  Std. Err.     T-stat    P-value    Lower CI    Upper CI\n",
      "------------------------------------------------------------------------------\n",
      "const          11.776     0.0442     266.47     0.0000      11.690      11.863\n",
      "x              1.9893     0.0083     240.73     0.0000      1.9731      2.0055\n",
      "==============================================================================\n"
     ]
    }
   ],
   "source": [
    "exog = df_panel[['const','x']]\n",
    "endog = df_panel['y']\n",
    "mod = OLS(endog, exog) #, entity_effects=True,time_effects=True)\n",
    "res = mod.fit() #cov_type='clustered', cluster_entity=True)\n",
    "print(res)"
   ]
  },
  {
   "cell_type": "code",
   "execution_count": 89,
   "id": "025a9eb7",
   "metadata": {},
   "outputs": [
    {
     "data": {
      "image/png": "[encoded data removed]",
      "text/plain": [
       "<Figure size 432x288 with 1 Axes>"
      ]
     },
     "metadata": {
      "needs_background": "light"
     },
     "output_type": "display_data"
    },
    {
     "name": "stdout",
     "output_type": "stream",
     "text": [
      "White test: Heteroscedasticity cannot be refused if p-Value close to zero\n",
      "{'LM-Stat': 0.08839220089107425, 'LM p-val': 0.9567663167744413, 'F-Stat': 0.04416546129813341, 'F p-val': 0.9567960763996786}\n",
      "Breusch-Pagan test: Heteroscedasticity cannot be refused if p-Value close to zero\n",
      "{'LM-Stat': 0.08294669168598112, 'LM p-val': 0.7733431615999536, 'F-Stat': 0.08290883064565056, 'F p-val': 0.773407696001005}\n",
      "Durbin-Watson test: [0,2) - pos autocorrelation; 2 - no autocorr; (2,4] - neg autocorrelation\n",
      "2.7876091834183416\n"
     ]
    }
   ],
   "source": [
    "# Test for endogeneity\n",
    "exog = df_panel[['const','x']]\n",
    "endog = df_panel['y']\n",
    "residuals_pooled_OLS = plot_residuals_for_variance(exog,endog)\n",
    "pooled_OLS_dataset = do_WhiteTest(df_panel,residuals_pooled_OLS,exog,endog)\n",
    "do_DurbinWatsonTest(pooled_OLS_dataset)"
   ]
  },
  {
   "cell_type": "code",
   "execution_count": 93,
   "id": "bb405df0",
   "metadata": {},
   "outputs": [
    {
     "name": "stdout",
     "output_type": "stream",
     "text": [
      "                          PanelOLS Estimation Summary                           \n",
      "================================================================================\n",
      "Dep. Variable:                      y   R-squared:                        0.9710\n",
      "Estimator:                   PanelOLS   R-squared (Between):              0.9697\n",
      "No. Observations:                4200   R-squared (Within):               0.9266\n",
      "Date:                Fri, Jul 02 2021   R-squared (Overall):              0.9323\n",
      "Time:                        11:07:02   Log-likelihood                   -5910.4\n",
      "Cov. Estimator:             Clustered                                           \n",
      "                                        F-statistic:                   1.405e+05\n",
      "Entities:                         600   P-value                           0.0000\n",
      "Avg Obs:                       7.0000   Distribution:                  F(1,4192)\n",
      "Min Obs:                       7.0000                                           \n",
      "Max Obs:                       7.0000   F-statistic (robust):          1.348e+05\n",
      "                                        P-value                           0.0000\n",
      "Time periods:                       7   Distribution:                  F(1,4192)\n",
      "Avg Obs:                       600.00                                           \n",
      "Min Obs:                       600.00                                           \n",
      "Max Obs:                       600.00                                           \n",
      "                                                                                \n",
      "                             Parameter Estimates                              \n",
      "==============================================================================\n",
      "            Parameter  Std. Err.     T-stat    P-value    Lower CI    Upper CI\n",
      "------------------------------------------------------------------------------\n",
      "const          11.725     0.0298     393.10     0.0000      11.667      11.784\n",
      "x              2.0005     0.0054     367.16     0.0000      1.9898      2.0112\n",
      "==============================================================================\n",
      "\n",
      "F-test for Poolability: 983.58\n",
      "P-value: 0.0000\n",
      "Distribution: F(6,4192)\n",
      "\n",
      "Included effects: Time\n"
     ]
    }
   ],
   "source": [
    "# With fixed-effects\n",
    "mod = PanelOLS(endog, exog, time_effects=True)\n",
    "res = mod.fit(cov_type='clustered', cluster_entity=True)\n",
    "print(res)"
   ]
  },
  {
   "cell_type": "markdown",
   "id": "9f1640be",
   "metadata": {},
   "source": [
    "\"I can pool\" is rejected - I need to pool."
   ]
  },
  {
   "cell_type": "code",
   "execution_count": null,
   "id": "ca33ed81",
   "metadata": {},
   "outputs": [],
   "source": []
  }
 ],
 "metadata": {
  "kernelspec": {
   "display_name": "venv",
   "language": "python",
   "name": "venv"
  },
  "language_info": {
   "codemirror_mode": {
    "name": "ipython",
    "version": 3
   },
   "file_extension": ".py",
   "mimetype": "text/x-python",
   "name": "python",
   "nbconvert_exporter": "python",
   "pygments_lexer": "ipython3",
   "version": "3.8.2"
  }
 },
 "nbformat": 4,
 "nbformat_minor": 5
}
