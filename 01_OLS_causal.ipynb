{
 "cells": [
  {
   "cell_type": "code",
   "execution_count": 1,
   "id": "21b19548",
   "metadata": {},
   "outputs": [],
   "source": [
    "import pandas as pd\n",
    "pd.options.mode.chained_assignment = None  # default='warn'\n",
    "import numpy as np\n",
    "import matplotlib.pyplot as ppt\n",
    "from sklearn import linear_model\n",
    "import statsmodels.api as sm\n",
    "from statsmodels.discrete.discrete_model import Probit\n",
    "from statsmodels.discrete.discrete_model import Logit\n",
    "from linearmodels import OLS\n",
    "\n",
    "from stargazer.stargazer import Stargazer\n",
    "import evaluation_functions\n",
    "from tqdm import tqdm"
   ]
  },
  {
   "cell_type": "markdown",
   "id": "416a5c88-63cd-4a3b-b890-e4ed313a00b2",
   "metadata": {},
   "source": [
    "# Treatment independent of covariates"
   ]
  },
  {
   "cell_type": "markdown",
   "id": "d8e8a6c8",
   "metadata": {},
   "source": [
    "## Create data"
   ]
  },
  {
   "cell_type": "code",
   "execution_count": 2,
   "id": "3150c6d1-4f55-412a-8327-b1be7b83e201",
   "metadata": {},
   "outputs": [],
   "source": [
    "a_true = 10.\n",
    "b1_true = 2.\n",
    "b2_true = 0.\n",
    "tau_true = 10.\n",
    "sigma = 1."
   ]
  },
  {
   "cell_type": "code",
   "execution_count": 3,
   "id": "b05256c1",
   "metadata": {},
   "outputs": [
    {
     "data": {
      "text/html": [
       "<div>\n",
       "<style scoped>\n",
       "    .dataframe tbody tr th:only-of-type {\n",
       "        vertical-align: middle;\n",
       "    }\n",
       "\n",
       "    .dataframe tbody tr th {\n",
       "        vertical-align: top;\n",
       "    }\n",
       "\n",
       "    .dataframe thead th {\n",
       "        text-align: right;\n",
       "    }\n",
       "</style>\n",
       "<table border=\"1\" class=\"dataframe\">\n",
       "  <thead>\n",
       "    <tr style=\"text-align: right;\">\n",
       "      <th></th>\n",
       "      <th>x1</th>\n",
       "      <th>x2</th>\n",
       "      <th>w</th>\n",
       "      <th>eps</th>\n",
       "      <th>y</th>\n",
       "    </tr>\n",
       "  </thead>\n",
       "  <tbody>\n",
       "    <tr>\n",
       "      <th>0</th>\n",
       "      <td>6.562850</td>\n",
       "      <td>5.858894</td>\n",
       "      <td>0</td>\n",
       "      <td>-0.268386</td>\n",
       "      <td>22.857315</td>\n",
       "    </tr>\n",
       "    <tr>\n",
       "      <th>1</th>\n",
       "      <td>5.722447</td>\n",
       "      <td>5.002097</td>\n",
       "      <td>1</td>\n",
       "      <td>-0.551508</td>\n",
       "      <td>30.893386</td>\n",
       "    </tr>\n",
       "    <tr>\n",
       "      <th>2</th>\n",
       "      <td>8.880598</td>\n",
       "      <td>7.857356</td>\n",
       "      <td>0</td>\n",
       "      <td>-0.787702</td>\n",
       "      <td>26.973495</td>\n",
       "    </tr>\n",
       "    <tr>\n",
       "      <th>3</th>\n",
       "      <td>3.797264</td>\n",
       "      <td>4.913460</td>\n",
       "      <td>0</td>\n",
       "      <td>-0.235991</td>\n",
       "      <td>17.358537</td>\n",
       "    </tr>\n",
       "    <tr>\n",
       "      <th>4</th>\n",
       "      <td>8.347151</td>\n",
       "      <td>5.642156</td>\n",
       "      <td>0</td>\n",
       "      <td>-0.948044</td>\n",
       "      <td>25.746259</td>\n",
       "    </tr>\n",
       "  </tbody>\n",
       "</table>\n",
       "</div>"
      ],
      "text/plain": [
       "         x1        x2  w       eps          y\n",
       "0  6.562850  5.858894  0 -0.268386  22.857315\n",
       "1  5.722447  5.002097  1 -0.551508  30.893386\n",
       "2  8.880598  7.857356  0 -0.787702  26.973495\n",
       "3  3.797264  4.913460  0 -0.235991  17.358537\n",
       "4  8.347151  5.642156  0 -0.948044  25.746259"
      ]
     },
     "execution_count": 3,
     "metadata": {},
     "output_type": "execute_result"
    }
   ],
   "source": [
    "# Create data\n",
    "df_data = pd.DataFrame(index=range(1000))\n",
    "df_data['x1'] = np.random.uniform(0, 10, df_data.shape[0])\n",
    "df_data['x2'] = np.random.uniform(0, 10, df_data.shape[0]) # not important\n",
    "df_data['w'] = np.random.choice([0,1], df_data.shape[0])\n",
    "df_data['eps'] = np.random.normal(0, sigma, df_data.shape[0])\n",
    "df_data['y'] = a_true + tau_true*df_data['w'] + b1_true*df_data['x1'] + b2_true*df_data['x2'] + df_data['eps']\n",
    "df_data.head()"
   ]
  },
  {
   "cell_type": "markdown",
   "id": "1bd2fe2c",
   "metadata": {},
   "source": [
    "## Estimate model"
   ]
  },
  {
   "cell_type": "code",
   "execution_count": 4,
   "id": "87610fc7",
   "metadata": {},
   "outputs": [
    {
     "name": "stdout",
     "output_type": "stream",
     "text": [
      "                            OLS Estimation Summary                            \n",
      "==============================================================================\n",
      "Dep. Variable:                      y   R-squared:                      0.9847\n",
      "Estimator:                        OLS   Adj. R-squared:                 0.9846\n",
      "No. Observations:                1000   F-statistic:                 6.392e+04\n",
      "Date:                Wed, Aug 16 2023   P-value (F-stat)                0.0000\n",
      "Time:                        16:20:21   Distribution:                  chi2(3)\n",
      "Cov. Estimator:                robust                                         \n",
      "                                                                              \n",
      "                             Parameter Estimates                              \n",
      "==============================================================================\n",
      "            Parameter  Std. Err.     T-stat    P-value    Lower CI    Upper CI\n",
      "------------------------------------------------------------------------------\n",
      "const          9.9793     0.0833     119.74     0.0000      9.8160      10.143\n",
      "w              9.9014     0.0614     161.25     0.0000      9.7810      10.022\n",
      "x1             2.0150     0.0106     189.86     0.0000      1.9942      2.0358\n",
      "x2            -0.0001     0.0104    -0.0113     0.9910     -0.0206      0.0203\n",
      "==============================================================================\n"
     ]
    }
   ],
   "source": [
    "exog = df_data[['w','x1','x2']]\n",
    "exog = sm.add_constant(exog)\n",
    "endog = df_data['y']\n",
    "mod = OLS(endog, exog) #, entity_effects=True,time_effects=True)\n",
    "res = mod.fit() #cov_type='clustered', cluster_entity=True)\n",
    "a_est = res.params[0]\n",
    "b1_est = res.params[1]\n",
    "b2_est = res.params[2]\n",
    "print(res)"
   ]
  },
  {
   "cell_type": "markdown",
   "id": "dbbc4ed1-af88-43b1-9c46-2babd50eb788",
   "metadata": {},
   "source": [
    "# Treatment dependent on covariates"
   ]
  },
  {
   "cell_type": "markdown",
   "id": "e9d4c88f-4db0-45d3-83c6-d4788cb11a6a",
   "metadata": {},
   "source": [
    "## Create data"
   ]
  },
  {
   "cell_type": "code",
   "execution_count": 5,
   "id": "47db6ef3-1eb6-412b-9397-e7982885ad36",
   "metadata": {},
   "outputs": [
    {
     "name": "stderr",
     "output_type": "stream",
     "text": [
      "100%|██████████| 1000/1000 [00:00<00:00, 1915.13it/s]\n"
     ]
    },
    {
     "data": {
      "text/html": [
       "<div>\n",
       "<style scoped>\n",
       "    .dataframe tbody tr th:only-of-type {\n",
       "        vertical-align: middle;\n",
       "    }\n",
       "\n",
       "    .dataframe tbody tr th {\n",
       "        vertical-align: top;\n",
       "    }\n",
       "\n",
       "    .dataframe thead th {\n",
       "        text-align: right;\n",
       "    }\n",
       "</style>\n",
       "<table border=\"1\" class=\"dataframe\">\n",
       "  <thead>\n",
       "    <tr style=\"text-align: right;\">\n",
       "      <th></th>\n",
       "      <th>x1</th>\n",
       "      <th>x2</th>\n",
       "      <th>w</th>\n",
       "      <th>eps</th>\n",
       "      <th>y</th>\n",
       "    </tr>\n",
       "  </thead>\n",
       "  <tbody>\n",
       "    <tr>\n",
       "      <th>0</th>\n",
       "      <td>7.044239</td>\n",
       "      <td>1.283057</td>\n",
       "      <td>0.0</td>\n",
       "      <td>-0.806114</td>\n",
       "      <td>23.282363</td>\n",
       "    </tr>\n",
       "    <tr>\n",
       "      <th>1</th>\n",
       "      <td>8.089057</td>\n",
       "      <td>9.505502</td>\n",
       "      <td>1.0</td>\n",
       "      <td>1.726744</td>\n",
       "      <td>37.904857</td>\n",
       "    </tr>\n",
       "    <tr>\n",
       "      <th>2</th>\n",
       "      <td>2.470742</td>\n",
       "      <td>9.674889</td>\n",
       "      <td>0.0</td>\n",
       "      <td>0.598968</td>\n",
       "      <td>15.540452</td>\n",
       "    </tr>\n",
       "    <tr>\n",
       "      <th>3</th>\n",
       "      <td>0.200621</td>\n",
       "      <td>2.329253</td>\n",
       "      <td>0.0</td>\n",
       "      <td>1.369771</td>\n",
       "      <td>11.771012</td>\n",
       "    </tr>\n",
       "    <tr>\n",
       "      <th>4</th>\n",
       "      <td>3.684132</td>\n",
       "      <td>8.770907</td>\n",
       "      <td>1.0</td>\n",
       "      <td>0.641086</td>\n",
       "      <td>28.009351</td>\n",
       "    </tr>\n",
       "  </tbody>\n",
       "</table>\n",
       "</div>"
      ],
      "text/plain": [
       "         x1        x2    w       eps          y\n",
       "0  7.044239  1.283057  0.0 -0.806114  23.282363\n",
       "1  8.089057  9.505502  1.0  1.726744  37.904857\n",
       "2  2.470742  9.674889  0.0  0.598968  15.540452\n",
       "3  0.200621  2.329253  0.0  1.369771  11.771012\n",
       "4  3.684132  8.770907  1.0  0.641086  28.009351"
      ]
     },
     "execution_count": 5,
     "metadata": {},
     "output_type": "execute_result"
    }
   ],
   "source": [
    "# Create data\n",
    "df_data = pd.DataFrame(index=range(1000))\n",
    "df_data['x1'] = np.random.uniform(0, 10, df_data.shape[0])\n",
    "df_data['x2'] = np.random.uniform(0, 10, df_data.shape[0]) # not important\n",
    "df_data['w'] = np.nan\n",
    "for ind in tqdm(df_data.index):\n",
    "    prob_w = df_data['x1'].loc[ind]/df_data['x1'].max() # if x1 is small, probability of treatment is low\n",
    "    df_data['w'].loc[ind] = np.random.choice([0,1],p=[1.-prob_w,prob_w])\n",
    "df_data['eps'] = np.random.normal(0, sigma, df_data.shape[0])\n",
    "df_data['y'] = a_true + tau_true*df_data['w'] + b1_true*df_data['x1'] + b2_true*df_data['x2'] + df_data['eps']\n",
    "df_data.head()"
   ]
  },
  {
   "cell_type": "code",
   "execution_count": 6,
   "id": "9cd927b6-1c8c-4467-839d-c635ee476422",
   "metadata": {},
   "outputs": [
    {
     "data": {
      "text/html": [
       "<div>\n",
       "<style scoped>\n",
       "    .dataframe tbody tr th:only-of-type {\n",
       "        vertical-align: middle;\n",
       "    }\n",
       "\n",
       "    .dataframe tbody tr th {\n",
       "        vertical-align: top;\n",
       "    }\n",
       "\n",
       "    .dataframe thead th {\n",
       "        text-align: right;\n",
       "    }\n",
       "</style>\n",
       "<table border=\"1\" class=\"dataframe\">\n",
       "  <thead>\n",
       "    <tr style=\"text-align: right;\">\n",
       "      <th></th>\n",
       "      <th>w</th>\n",
       "      <th>x1</th>\n",
       "    </tr>\n",
       "  </thead>\n",
       "  <tbody>\n",
       "    <tr>\n",
       "      <th>w</th>\n",
       "      <td>1.000000</td>\n",
       "      <td>0.555483</td>\n",
       "    </tr>\n",
       "    <tr>\n",
       "      <th>x1</th>\n",
       "      <td>0.555483</td>\n",
       "      <td>1.000000</td>\n",
       "    </tr>\n",
       "  </tbody>\n",
       "</table>\n",
       "</div>"
      ],
      "text/plain": [
       "           w        x1\n",
       "w   1.000000  0.555483\n",
       "x1  0.555483  1.000000"
      ]
     },
     "execution_count": 6,
     "metadata": {},
     "output_type": "execute_result"
    }
   ],
   "source": [
    "df_data[['w','x1']].corr()"
   ]
  },
  {
   "cell_type": "markdown",
   "id": "582c32d4-4ea8-4e42-95d5-2e0f823f5e98",
   "metadata": {},
   "source": [
    "## Estimate naive model"
   ]
  },
  {
   "cell_type": "code",
   "execution_count": 7,
   "id": "19a0114b-51b6-4948-b45f-5dae9b6a32c7",
   "metadata": {},
   "outputs": [
    {
     "name": "stdout",
     "output_type": "stream",
     "text": [
      "                            OLS Estimation Summary                            \n",
      "==============================================================================\n",
      "Dep. Variable:                      y   R-squared:                      0.7382\n",
      "Estimator:                        OLS   Adj. R-squared:                 0.7380\n",
      "No. Observations:                1000   F-statistic:                    2818.4\n",
      "Date:                Wed, Aug 16 2023   P-value (F-stat)                0.0000\n",
      "Time:                        16:20:24   Distribution:                  chi2(1)\n",
      "Cov. Estimator:                robust                                         \n",
      "                                                                              \n",
      "                             Parameter Estimates                              \n",
      "==============================================================================\n",
      "            Parameter  Std. Err.     T-stat    P-value    Lower CI    Upper CI\n",
      "------------------------------------------------------------------------------\n",
      "const          16.749     0.2148     77.989     0.0000      16.328      17.169\n",
      "w              16.407     0.3090     53.088     0.0000      15.801      17.012\n",
      "==============================================================================\n"
     ]
    }
   ],
   "source": [
    "exog = df_data[['w']]\n",
    "exog = sm.add_constant(exog)\n",
    "endog = df_data['y']\n",
    "mod = OLS(endog, exog) #, entity_effects=True,time_effects=True)\n",
    "res = mod.fit() #cov_type='clustered', cluster_entity=True)\n",
    "a_est = res.params[0]\n",
    "w_est = res.params[1]\n",
    "print(res)"
   ]
  },
  {
   "cell_type": "markdown",
   "id": "d03d3423-c639-4bfd-873e-ad5ac0b75886",
   "metadata": {},
   "source": [
    "## Include relevant covariates"
   ]
  },
  {
   "cell_type": "code",
   "execution_count": 8,
   "id": "d2293644-07b6-4272-8489-16c49b213f36",
   "metadata": {},
   "outputs": [
    {
     "name": "stdout",
     "output_type": "stream",
     "text": [
      "                            OLS Estimation Summary                            \n",
      "==============================================================================\n",
      "Dep. Variable:                      y   R-squared:                      0.9885\n",
      "Estimator:                        OLS   Adj. R-squared:                 0.9885\n",
      "No. Observations:                1000   F-statistic:                 8.503e+04\n",
      "Date:                Wed, Aug 16 2023   P-value (F-stat)                0.0000\n",
      "Time:                        16:20:27   Distribution:                  chi2(3)\n",
      "Cov. Estimator:                robust                                         \n",
      "                                                                              \n",
      "                             Parameter Estimates                              \n",
      "==============================================================================\n",
      "            Parameter  Std. Err.     T-stat    P-value    Lower CI    Upper CI\n",
      "------------------------------------------------------------------------------\n",
      "const          9.9134     0.0856     115.78     0.0000      9.7456      10.081\n",
      "w              10.025     0.0783     128.10     0.0000      9.8715      10.178\n",
      "x1             2.0140     0.0140     143.64     0.0000      1.9865      2.0414\n",
      "x2             0.0061     0.0117     0.5190     0.6037     -0.0168      0.0289\n",
      "==============================================================================\n"
     ]
    }
   ],
   "source": [
    "exog = df_data[['w','x1','x2']]\n",
    "exog = sm.add_constant(exog)\n",
    "endog = df_data['y']\n",
    "mod = OLS(endog, exog) #, entity_effects=True,time_effects=True)\n",
    "res = mod.fit() #cov_type='clustered', cluster_entity=True)\n",
    "a_est = res.params[0]\n",
    "b1_est = res.params[1]\n",
    "b2_est = res.params[2]\n",
    "print(res)"
   ]
  },
  {
   "cell_type": "markdown",
   "id": "ec5e1eda-7c10-4852-ab42-be18446f7c6b",
   "metadata": {},
   "source": [
    "## Large sample"
   ]
  },
  {
   "cell_type": "markdown",
   "id": "384dc482-323c-4a06-b4ad-f96b5a9e9e4c",
   "metadata": {},
   "source": [
    "### Create sample"
   ]
  },
  {
   "cell_type": "code",
   "execution_count": 10,
   "id": "7340b54a-c961-4934-afc4-e877355e6772",
   "metadata": {},
   "outputs": [],
   "source": [
    "def create_data(a_true,tau_true,b1_true,b2_true):\n",
    "    df_data = pd.DataFrame(index=range(1000))\n",
    "    df_data['x1'] = np.random.uniform(0, 10, df_data.shape[0])\n",
    "    df_data['x2'] = np.random.uniform(0, 10, df_data.shape[0]) # not important\n",
    "    df_data['w'] = np.nan\n",
    "    for ind in (df_data.index):\n",
    "        prob_w = df_data['x1'].loc[ind]/df_data['x1'].max() # if x1 is small, probability of treatment is low\n",
    "        df_data['w'].loc[ind] = np.random.choice([0,1],p=[1.-prob_w,prob_w])\n",
    "    df_data['eps'] = np.random.normal(0, sigma, df_data.shape[0])\n",
    "    df_data['y'] = a_true + tau_true*df_data['w'] + b1_true*df_data['x1'] + b2_true*df_data['x2'] + df_data['eps']\n",
    "    return df_data"
   ]
  },
  {
   "cell_type": "code",
   "execution_count": 11,
   "id": "4b03e100-86f7-48d0-be8b-59861c44bf5e",
   "metadata": {},
   "outputs": [
    {
     "name": "stderr",
     "output_type": "stream",
     "text": [
      "100%|██████████| 100/100 [00:42<00:00,  2.33it/s]\n"
     ]
    }
   ],
   "source": [
    "# Run large number of estimations\n",
    "for i in tqdm(range(100)):\n",
    "    # Naive model\n",
    "    df_data = create_data(a_true,tau_true,b1_true,b2_true)\n",
    "    exog = df_data[['w']]\n",
    "    exog = sm.add_constant(exog)\n",
    "    endog = df_data['y']\n",
    "    mod = OLS(endog, exog) #, entity_effects=True,time_effects=True)\n",
    "    res = mod.fit() #cov_type='clustered', cluster_entity=True)\n",
    "    df_param_i = pd.DataFrame(data=[res.params])\n",
    "    df_conflow_i = res.conf_int(0.95)[['lower']].transpose()\n",
    "    df_confhigh_i = res.conf_int(0.95)[['upper']].transpose()\n",
    "    if i == 0:\n",
    "        df_param_naive = df_param_i.copy()\n",
    "        df_conflow_naive = df_conflow_i.copy()\n",
    "        df_confhigh_naive = df_confhigh_i.copy()\n",
    "    else:\n",
    "        df_param_naive = df_param_naive.append(df_param_i)\n",
    "        df_conflow_naive = df_conflow_naive.append(df_conflow_i)\n",
    "        df_confhigh_naive = df_confhigh_naive.append(df_confhigh_i)\n",
    "    # Full model\n",
    "    exog = df_data[['w','x1','x2']]\n",
    "    exog = sm.add_constant(exog)\n",
    "    endog = df_data['y']\n",
    "    mod = OLS(endog, exog) #, entity_effects=True,time_effects=True)\n",
    "    res = mod.fit() #cov_type='clustered', cluster_entity=True)\n",
    "    df_param_i = pd.DataFrame(data=[res.params])\n",
    "    df_conflow_i = res.conf_int(0.95)[['lower']].transpose()\n",
    "    df_confhigh_i = res.conf_int(0.95)[['upper']].transpose()\n",
    "    if i == 0:\n",
    "        df_param_full = df_param_i.copy()\n",
    "        df_conflow_full = df_conflow_i.copy()\n",
    "        df_confhigh_full = df_confhigh_i.copy()\n",
    "    else:\n",
    "        df_param_full = df_param_full.append(df_param_i)\n",
    "        df_conflow_full = df_conflow_full.append(df_conflow_i)\n",
    "        df_confhigh_full = df_confhigh_full.append(df_confhigh_i)"
   ]
  },
  {
   "cell_type": "markdown",
   "id": "1c4703ce-7dd6-4fde-9230-df1d28a673e9",
   "metadata": {},
   "source": [
    "### Visualize difference in estimates for naive and full model"
   ]
  },
  {
   "cell_type": "code",
   "execution_count": 12,
   "id": "714e7ea7-4691-4bb2-9b0f-53c1f2622444",
   "metadata": {},
   "outputs": [
    {
     "data": {
      "text/plain": [
       "<matplotlib.legend.Legend at 0x12398f040>"
      ]
     },
     "execution_count": 12,
     "metadata": {},
     "output_type": "execute_result"
    },
    {
     "data": {
      "image/png": "[encoded data removed]",
      "text/plain": [
       "<Figure size 432x288 with 1 Axes>"
      ]
     },
     "metadata": {
      "needs_background": "light"
     },
     "output_type": "display_data"
    }
   ],
   "source": [
    "df_param_naive['w'].hist(color='blue',alpha=0.5,label='naive')\n",
    "df_param_full['w'].hist(color='green',alpha=0.5,label='full')\n",
    "ppt.axvline(tau_true,color='red',label='true tau')\n",
    "ppt.axvline(df_param_naive['w'].mean(),color='blue',label='naive mean tau')\n",
    "ppt.axvline(df_param_full['w'].mean(),color='green',label='full mean tau')\n",
    "ppt.legend()"
   ]
  },
  {
   "cell_type": "markdown",
   "id": "0ee00be6-bfe3-4bc1-bbba-6fc5f99e7e5e",
   "metadata": {},
   "source": [
    "Treatment is more likely if x1 is large. Therefore, the naive model over-estimates the treatment effect if x1 is ommitted."
   ]
  },
  {
   "cell_type": "markdown",
   "id": "6a312fb0-d60b-4060-8658-7537e3111424",
   "metadata": {},
   "source": [
    "## Solve with matching"
   ]
  },
  {
   "cell_type": "markdown",
   "id": "53568110-f14e-4537-bd0a-4180ccc3aacb",
   "metadata": {},
   "source": [
    "This follows roughly Imbens (2014) - Mathcing Methods in Practice."
   ]
  },
  {
   "cell_type": "markdown",
   "id": "1c654546-a8bc-4d84-af44-fb425cf4229c",
   "metadata": {},
   "source": [
    "### Step 1: Assess overlap"
   ]
  },
  {
   "cell_type": "code",
   "execution_count": 9,
   "id": "9c0e742f-4346-4e34-bbdc-c3e3be487491",
   "metadata": {},
   "outputs": [
    {
     "data": {
      "text/plain": [
       "<matplotlib.legend.Legend at 0x12fd9caf0>"
      ]
     },
     "execution_count": 9,
     "metadata": {},
     "output_type": "execute_result"
    },
    {
     "data": {
      "image/png": "[encoded data removed]",
      "text/plain": [
       "<Figure size 432x288 with 1 Axes>"
      ]
     },
     "metadata": {
      "needs_background": "light"
     },
     "output_type": "display_data"
    }
   ],
   "source": [
    "df_data.loc[df_data['w'] == 1]['x1'].hist(label='treated',alpha=0.5)\n",
    "df_data.loc[df_data['w'] == 0]['x1'].hist(label='control',alpha=0.5)\n",
    "ppt.legend()"
   ]
  },
  {
   "attachments": {
    "d6182048-1478-484c-a6c0-d797635fb9f0.png": {
     "image/png": "[encoded data removed]"
    }
   },
   "cell_type": "markdown",
   "id": "688b2e13-9987-415e-998c-d63b0f4d77d8",
   "metadata": {},
   "source": [
    "![grafik.png](attachment:d6182048-1478-484c-a6c0-d797635fb9f0.png)"
   ]
  },
  {
   "cell_type": "code",
   "execution_count": 10,
   "id": "9d9995cd-4a21-4ea2-800c-d436f47e2db8",
   "metadata": {},
   "outputs": [],
   "source": [
    "N_c = (1 - df_data['w']).sum()\n",
    "N_t = (df_data['w']).sum()"
   ]
  },
  {
   "cell_type": "code",
   "execution_count": 11,
   "id": "ea5cf4e5-9e0d-4b21-872e-432fe755a78f",
   "metadata": {},
   "outputs": [],
   "source": [
    "x_ck = 1/N_c*(df_data.loc[df_data['w'] == 0]['x1'].sum())\n",
    "x_tk = 1/N_t*(df_data.loc[df_data['w'] == 1]['x1'].sum())"
   ]
  },
  {
   "cell_type": "code",
   "execution_count": 12,
   "id": "0b29b65d-3b85-4b41-80ef-9b3a010774f1",
   "metadata": {},
   "outputs": [],
   "source": [
    "S2_Xck = 1/(N_c-1)*(((df_data.loc[df_data['w'] == 0]['x1'] - x_ck)**2).sum())\n",
    "S2_Xtk = 1/(N_t-1)*(((df_data.loc[df_data['w'] == 1]['x1'] - x_tk)**2).sum())"
   ]
  },
  {
   "cell_type": "code",
   "execution_count": 13,
   "id": "ea72429d-f4b5-432a-9098-6919ec27080c",
   "metadata": {},
   "outputs": [
    {
     "data": {
      "text/plain": [
       "1.3345532444619126"
      ]
     },
     "execution_count": 13,
     "metadata": {},
     "output_type": "execute_result"
    }
   ],
   "source": [
    "delta_Xk = (x_tk - x_ck)/np.sqrt((S2_Xtk + S2_Xck)/2)\n",
    "delta_Xk"
   ]
  },
  {
   "cell_type": "code",
   "execution_count": 14,
   "id": "7e3a91d4-c7ee-478a-8511-fef00bfc3eb3",
   "metadata": {},
   "outputs": [
    {
     "data": {
      "text/plain": [
       "26.4775155710109"
      ]
     },
     "execution_count": 14,
     "metadata": {},
     "output_type": "execute_result"
    }
   ],
   "source": [
    "t_Xk = (x_tk - x_ck)/(np.sqrt((S2_Xtk)/N_t) + (S2_Xck/N_c))\n",
    "t_Xk"
   ]
  },
  {
   "cell_type": "markdown",
   "id": "aca7e97f-63e9-411e-8c54-e1153ad53df4",
   "metadata": {},
   "source": [
    "### Step 2: Estimate propensity score"
   ]
  },
  {
   "cell_type": "markdown",
   "id": "55ebb0b2-bcc0-4569-bfff-df0247c5e841",
   "metadata": {},
   "source": [
    "#### Lasso"
   ]
  },
  {
   "cell_type": "code",
   "execution_count": 15,
   "id": "81970c40-f8ad-4314-b1fb-9d2d9af094fc",
   "metadata": {},
   "outputs": [
    {
     "name": "stdout",
     "output_type": "stream",
     "text": [
      "Optimization terminated successfully    (Exit mode 0)\n",
      "            Current function value: 0.5230550482468894\n",
      "            Iterations: 22\n",
      "            Function evaluations: 23\n",
      "            Gradient evaluations: 22\n",
      "                           Logit Regression Results                           \n",
      "==============================================================================\n",
      "Dep. Variable:                      w   No. Observations:                 1000\n",
      "Model:                          Logit   Df Residuals:                      997\n",
      "Method:                           MLE   Df Model:                            2\n",
      "Date:                Wed, 16 Aug 2023   Pseudo R-squ.:                  0.2494\n",
      "Time:                        16:20:38   Log-Likelihood:                -520.15\n",
      "converged:                       True   LL-Null:                       -692.95\n",
      "Covariance Type:            nonrobust   LLR p-value:                 9.012e-76\n",
      "==============================================================================\n",
      "                 coef    std err          z      P>|z|      [0.025      0.975]\n",
      "------------------------------------------------------------------------------\n",
      "Intercept     -2.4003      0.216    -11.102      0.000      -2.824      -1.977\n",
      "x1             0.4908      0.032     15.418      0.000       0.428       0.553\n",
      "x2            -0.0146      0.027     -0.551      0.582      -0.067       0.037\n",
      "==============================================================================\n"
     ]
    }
   ],
   "source": [
    "# which covariates to include\n",
    "formula = 'w ~ x1 + x2'\n",
    "lasso = Logit.from_formula(formula, df_data).fit_regularized(method='l1', alpha=1.0, L1_wt=1.0, start_params=None, profile_scale=False, refit=False)\n",
    "print(lasso.summary())"
   ]
  },
  {
   "cell_type": "markdown",
   "id": "54f6f2eb-91c0-4117-a6fc-f4a965e9b970",
   "metadata": {},
   "source": [
    "#### Imbens and Rubin (2014), as described in Imbens (2014) on page 20"
   ]
  },
  {
   "cell_type": "code",
   "execution_count": 16,
   "id": "aba0fa36-2fcc-42fb-ad44-1d6aaf789896",
   "metadata": {},
   "outputs": [],
   "source": [
    "from sklearn.linear_model import LogisticRegression\n",
    "from sklearn.metrics import accuracy_score\n",
    "from sklearn.preprocessing import StandardScaler"
   ]
  },
  {
   "cell_type": "code",
   "execution_count": 17,
   "id": "c6e3d854-3a17-436c-9186-2db524274ca0",
   "metadata": {},
   "outputs": [],
   "source": [
    "df_data['x1x2'] = df_data['x1']*df_data['x2']\n",
    "cols = ['x1','x2','x1x2']"
   ]
  },
  {
   "cell_type": "code",
   "execution_count": 18,
   "id": "b77b7984-cd96-4b2a-ac5e-3699621019cd",
   "metadata": {},
   "outputs": [],
   "source": [
    "C_lin = 1\n",
    "C_qua = 2.71"
   ]
  },
  {
   "cell_type": "code",
   "execution_count": 19,
   "id": "bb24be90-e057-48eb-aada-18ee43a21993",
   "metadata": {},
   "outputs": [],
   "source": [
    "X_B = [1]\n",
    "K_B = len(X_B)\n",
    "K = 2 # x1 and x2"
   ]
  },
  {
   "cell_type": "code",
   "execution_count": 20,
   "id": "b0149a81-a1d8-4b60-b1ac-4a3d6e875761",
   "metadata": {},
   "outputs": [
    {
     "name": "stdout",
     "output_type": "stream",
     "text": [
      "Optimization terminated successfully.\n",
      "         Current function value: 0.692947\n",
      "         Iterations 3\n",
      "                           Logit Regression Results                           \n",
      "==============================================================================\n",
      "Dep. Variable:                      w   No. Observations:                 1000\n",
      "Model:                          Logit   Df Residuals:                      999\n",
      "Method:                           MLE   Df Model:                            0\n",
      "Date:                Wed, 16 Aug 2023   Pseudo R-squ.:               5.131e-12\n",
      "Time:                        16:20:43   Log-Likelihood:                -692.95\n",
      "converged:                       True   LL-Null:                       -692.95\n",
      "Covariance Type:            nonrobust   LLR p-value:                       nan\n",
      "==============================================================================\n",
      "                 coef    std err          z      P>|z|      [0.025      0.975]\n",
      "------------------------------------------------------------------------------\n",
      "const         -0.0400      0.063     -0.632      0.527      -0.164       0.084\n",
      "==============================================================================\n"
     ]
    }
   ],
   "source": [
    "# Step 1: Estimate logistic regresion model, with basic covs X_B\n",
    "df_data['const'] = 1\n",
    "step1 = Logit(endog=df_data['w'],exog=df_data['const'],offset=False)\n",
    "step1_res = step1.fit()\n",
    "print(step1_res.summary())"
   ]
  },
  {
   "cell_type": "code",
   "execution_count": 26,
   "id": "b9d1fe41-1c02-4933-8b6a-8b8ac4a88786",
   "metadata": {},
   "outputs": [
    {
     "name": "stdout",
     "output_type": "stream",
     "text": [
      "Optimization terminated successfully.\n",
      "         Current function value: 0.658442\n",
      "         Iterations 4\n",
      "Optimization terminated successfully.\n",
      "         Current function value: 0.693012\n",
      "         Iterations 3\n"
     ]
    },
    {
     "ename": "AttributeError",
     "evalue": "'LogitResults' object has no attribute 'compare_lr_test'",
     "output_type": "error",
     "traceback": [
      "\u001b[0;31m---------------------------------------------------------------------------\u001b[0m",
      "\u001b[0;31mAttributeError\u001b[0m                            Traceback (most recent call last)",
      "\u001b[0;32m<ipython-input-26-7d624a304cd1>\u001b[0m in \u001b[0;36m<module>\u001b[0;34m\u001b[0m\n\u001b[1;32m      6\u001b[0m \u001b[0;34m\u001b[0m\u001b[0m\n\u001b[1;32m      7\u001b[0m \u001b[0;31m# Compare the two models using the log-likelihood ratio test\u001b[0m\u001b[0;34m\u001b[0m\u001b[0;34m\u001b[0m\u001b[0;34m\u001b[0m\u001b[0m\n\u001b[0;32m----> 8\u001b[0;31m \u001b[0mresults\u001b[0m \u001b[0;34m=\u001b[0m \u001b[0mmodel2\u001b[0m\u001b[0;34m.\u001b[0m\u001b[0mcompare_lr_test\u001b[0m\u001b[0;34m(\u001b[0m\u001b[0mmodel1\u001b[0m\u001b[0;34m)\u001b[0m\u001b[0;34m\u001b[0m\u001b[0;34m\u001b[0m\u001b[0m\n\u001b[0m\u001b[1;32m      9\u001b[0m \u001b[0;34m\u001b[0m\u001b[0m\n\u001b[1;32m     10\u001b[0m \u001b[0mprint\u001b[0m\u001b[0;34m(\u001b[0m\u001b[0;34mf\"p-value = {results[1]}\"\u001b[0m\u001b[0;34m)\u001b[0m\u001b[0;34m\u001b[0m\u001b[0;34m\u001b[0m\u001b[0m\n",
      "\u001b[0;32m~/Documents/Research/EV_PublicProcurement/Analysis/venv/lib/python3.8/site-packages/statsmodels/base/wrapper.py\u001b[0m in \u001b[0;36m__getattribute__\u001b[0;34m(self, attr)\u001b[0m\n\u001b[1;32m     32\u001b[0m             \u001b[0;32mpass\u001b[0m\u001b[0;34m\u001b[0m\u001b[0;34m\u001b[0m\u001b[0m\n\u001b[1;32m     33\u001b[0m \u001b[0;34m\u001b[0m\u001b[0m\n\u001b[0;32m---> 34\u001b[0;31m         \u001b[0mobj\u001b[0m \u001b[0;34m=\u001b[0m \u001b[0mgetattr\u001b[0m\u001b[0;34m(\u001b[0m\u001b[0mresults\u001b[0m\u001b[0;34m,\u001b[0m \u001b[0mattr\u001b[0m\u001b[0;34m)\u001b[0m\u001b[0;34m\u001b[0m\u001b[0;34m\u001b[0m\u001b[0m\n\u001b[0m\u001b[1;32m     35\u001b[0m         \u001b[0mdata\u001b[0m \u001b[0;34m=\u001b[0m \u001b[0mresults\u001b[0m\u001b[0;34m.\u001b[0m\u001b[0mmodel\u001b[0m\u001b[0;34m.\u001b[0m\u001b[0mdata\u001b[0m\u001b[0;34m\u001b[0m\u001b[0;34m\u001b[0m\u001b[0m\n\u001b[1;32m     36\u001b[0m         \u001b[0mhow\u001b[0m \u001b[0;34m=\u001b[0m \u001b[0mself\u001b[0m\u001b[0;34m.\u001b[0m\u001b[0m_wrap_attrs\u001b[0m\u001b[0;34m.\u001b[0m\u001b[0mget\u001b[0m\u001b[0;34m(\u001b[0m\u001b[0mattr\u001b[0m\u001b[0;34m)\u001b[0m\u001b[0;34m\u001b[0m\u001b[0;34m\u001b[0m\u001b[0m\n",
      "\u001b[0;31mAttributeError\u001b[0m: 'LogitResults' object has no attribute 'compare_lr_test'"
     ]
    }
   ],
   "source": [
    "import statsmodels.api as sm\n",
    "\n",
    "# Fit two logistic regression models\n",
    "model1 = sm.Logit(df_data['w'], df_data['x1']).fit()\n",
    "model2 = sm.Logit(df_data['w'], df_data['x2']).fit()\n",
    "\n",
    "# Compare the two models using the log-likelihood ratio test\n",
    "results = model2.compare_lr_test(model1)\n",
    "\n",
    "print(f\"p-value = {results[1]}\")"
   ]
  },
  {
   "cell_type": "code",
   "execution_count": 23,
   "id": "dda5f9b1-b430-4af0-9064-5d1f620cc339",
   "metadata": {},
   "outputs": [
    {
     "ename": "AttributeError",
     "evalue": "'LogitResults' object has no attribute 'compare_lr_test'",
     "output_type": "error",
     "traceback": [
      "\u001b[0;31m---------------------------------------------------------------------------\u001b[0m",
      "\u001b[0;31mAttributeError\u001b[0m                            Traceback (most recent call last)",
      "\u001b[0;32m<ipython-input-23-7331fed99c1d>\u001b[0m in \u001b[0;36m<module>\u001b[0;34m\u001b[0m\n\u001b[0;32m----> 1\u001b[0;31m \u001b[0mstep2_res\u001b[0m\u001b[0;34m.\u001b[0m\u001b[0mcompare_lr_test\u001b[0m\u001b[0;34m(\u001b[0m\u001b[0mstep1_res\u001b[0m\u001b[0;34m)\u001b[0m\u001b[0;34m\u001b[0m\u001b[0;34m\u001b[0m\u001b[0m\n\u001b[0m\u001b[1;32m      2\u001b[0m \u001b[0;31m#results = model2.compare_lr_test(model1)\u001b[0m\u001b[0;34m\u001b[0m\u001b[0;34m\u001b[0m\u001b[0;34m\u001b[0m\u001b[0m\n",
      "\u001b[0;32m~/Documents/Research/EV_PublicProcurement/Analysis/venv/lib/python3.8/site-packages/statsmodels/base/wrapper.py\u001b[0m in \u001b[0;36m__getattribute__\u001b[0;34m(self, attr)\u001b[0m\n\u001b[1;32m     32\u001b[0m             \u001b[0;32mpass\u001b[0m\u001b[0;34m\u001b[0m\u001b[0;34m\u001b[0m\u001b[0m\n\u001b[1;32m     33\u001b[0m \u001b[0;34m\u001b[0m\u001b[0m\n\u001b[0;32m---> 34\u001b[0;31m         \u001b[0mobj\u001b[0m \u001b[0;34m=\u001b[0m \u001b[0mgetattr\u001b[0m\u001b[0;34m(\u001b[0m\u001b[0mresults\u001b[0m\u001b[0;34m,\u001b[0m \u001b[0mattr\u001b[0m\u001b[0;34m)\u001b[0m\u001b[0;34m\u001b[0m\u001b[0;34m\u001b[0m\u001b[0m\n\u001b[0m\u001b[1;32m     35\u001b[0m         \u001b[0mdata\u001b[0m \u001b[0;34m=\u001b[0m \u001b[0mresults\u001b[0m\u001b[0;34m.\u001b[0m\u001b[0mmodel\u001b[0m\u001b[0;34m.\u001b[0m\u001b[0mdata\u001b[0m\u001b[0;34m\u001b[0m\u001b[0;34m\u001b[0m\u001b[0m\n\u001b[1;32m     36\u001b[0m         \u001b[0mhow\u001b[0m \u001b[0;34m=\u001b[0m \u001b[0mself\u001b[0m\u001b[0;34m.\u001b[0m\u001b[0m_wrap_attrs\u001b[0m\u001b[0;34m.\u001b[0m\u001b[0mget\u001b[0m\u001b[0;34m(\u001b[0m\u001b[0mattr\u001b[0m\u001b[0;34m)\u001b[0m\u001b[0;34m\u001b[0m\u001b[0;34m\u001b[0m\u001b[0m\n",
      "\u001b[0;31mAttributeError\u001b[0m: 'LogitResults' object has no attribute 'compare_lr_test'"
     ]
    }
   ],
   "source": [
    "step2_res.compare_lr_test(step1_res)\n",
    "#results = model2.compare_lr_test(model1)"
   ]
  },
  {
   "cell_type": "code",
   "execution_count": 22,
   "id": "ef11976c-bf38-4cd5-9e96-187daa9f6fb5",
   "metadata": {},
   "outputs": [
    {
     "name": "stdout",
     "output_type": "stream",
     "text": [
      "x1\n",
      "Optimization terminated successfully.\n",
      "         Current function value: 0.520225\n",
      "         Iterations 6\n",
      "                           Logit Regression Results                           \n",
      "==============================================================================\n",
      "Dep. Variable:                      w   No. Observations:                 1000\n",
      "Model:                          Logit   Df Residuals:                      998\n",
      "Method:                           MLE   Df Model:                            1\n",
      "Date:                Wed, 16 Aug 2023   Pseudo R-squ.:                  0.2493\n",
      "Time:                        16:20:49   Log-Likelihood:                -520.23\n",
      "converged:                       True   LL-Null:                       -692.95\n",
      "Covariance Type:            nonrobust   LLR p-value:                 4.162e-77\n",
      "==============================================================================\n",
      "                 coef    std err          z      P>|z|      [0.025      0.975]\n",
      "------------------------------------------------------------------------------\n",
      "const         -2.5067      0.177    -14.124      0.000      -2.855      -2.159\n",
      "x1             0.4964      0.032     15.491      0.000       0.434       0.559\n",
      "==============================================================================\n"
     ]
    }
   ],
   "source": [
    "# Estimate K+1-K_B additional logistic regression models where each model includes a single additional element\n",
    "# Compute: likelihood-ratio test assesses the goodness of fit of two competing statistical models, specifically one found by maximization \n",
    "# over the entire parameter space and another found after imposing some constraint, based on the ratio of their likelihoods\n",
    "for col in cols[:1]:\n",
    "    print(col)\n",
    "    step2 = Logit(endog=df_data['w'],exog=df_data[['const'] + [col]],offset=False)\n",
    "    step2_res = step2.fit()\n",
    "    print(step2_res.summary())"
   ]
  },
  {
   "cell_type": "code",
   "execution_count": 312,
   "id": "c24022dd-dba8-45e3-bd60-3039231567a9",
   "metadata": {},
   "outputs": [
    {
     "data": {
      "text/plain": [
       "{'C': 1.0,\n",
       " 'class_weight': None,\n",
       " 'dual': False,\n",
       " 'fit_intercept': True,\n",
       " 'intercept_scaling': 1,\n",
       " 'l1_ratio': None,\n",
       " 'max_iter': 100,\n",
       " 'multi_class': 'auto',\n",
       " 'n_jobs': None,\n",
       " 'penalty': 'l2',\n",
       " 'random_state': None,\n",
       " 'solver': 'lbfgs',\n",
       " 'tol': 0.0001,\n",
       " 'verbose': 0,\n",
       " 'warm_start': False}"
      ]
     },
     "execution_count": 312,
     "metadata": {},
     "output_type": "execute_result"
    }
   ],
   "source": [
    "step1_res.get_params()"
   ]
  },
  {
   "cell_type": "code",
   "execution_count": null,
   "id": "a472121c-baef-4b2e-a64f-3ea5a129fd57",
   "metadata": {},
   "outputs": [],
   "source": []
  },
  {
   "cell_type": "code",
   "execution_count": null,
   "id": "953dd1e6-513b-4276-b5e6-5f791bd5fc96",
   "metadata": {},
   "outputs": [],
   "source": []
  },
  {
   "cell_type": "markdown",
   "id": "851e5705-8b0b-4d5b-9db2-d2016e435649",
   "metadata": {},
   "source": [
    "#### Estimate propensity score"
   ]
  },
  {
   "cell_type": "code",
   "execution_count": 315,
   "id": "3db02f5f-ea92-4fe7-a4d1-2ab7789cbd99",
   "metadata": {},
   "outputs": [
    {
     "name": "stdout",
     "output_type": "stream",
     "text": [
      "Optimization terminated successfully.\n",
      "         Current function value: 0.491716\n",
      "         Iterations 6\n"
     ]
    }
   ],
   "source": [
    "# treatment selection model\n",
    "formula = 'w ~ x1'\n",
    "res_probit = Logit.from_formula(formula, df_data).fit()\n",
    "df_data['propensity_score'] = res_probit.predict()"
   ]
  },
  {
   "cell_type": "code",
   "execution_count": 316,
   "id": "8e499710-81a5-4263-8f50-360b9e9f4110",
   "metadata": {},
   "outputs": [
    {
     "data": {
      "text/html": [
       "<table class=\"simpletable\">\n",
       "<caption>Logit Regression Results</caption>\n",
       "<tr>\n",
       "  <th>Dep. Variable:</th>           <td>w</td>        <th>  No. Observations:  </th>  <td>  1000</td>  \n",
       "</tr>\n",
       "<tr>\n",
       "  <th>Model:</th>                 <td>Logit</td>      <th>  Df Residuals:      </th>  <td>   998</td>  \n",
       "</tr>\n",
       "<tr>\n",
       "  <th>Method:</th>                 <td>MLE</td>       <th>  Df Model:          </th>  <td>     1</td>  \n",
       "</tr>\n",
       "<tr>\n",
       "  <th>Date:</th>            <td>Wed, 16 Aug 2023</td> <th>  Pseudo R-squ.:     </th>  <td>0.2905</td>  \n",
       "</tr>\n",
       "<tr>\n",
       "  <th>Time:</th>                <td>15:58:22</td>     <th>  Log-Likelihood:    </th> <td> -491.72</td> \n",
       "</tr>\n",
       "<tr>\n",
       "  <th>converged:</th>             <td>True</td>       <th>  LL-Null:           </th> <td> -693.02</td> \n",
       "</tr>\n",
       "<tr>\n",
       "  <th>Covariance Type:</th>     <td>nonrobust</td>    <th>  LLR p-value:       </th> <td>1.491e-89</td>\n",
       "</tr>\n",
       "</table>\n",
       "<table class=\"simpletable\">\n",
       "<tr>\n",
       "      <td></td>         <th>coef</th>     <th>std err</th>      <th>z</th>      <th>P>|z|</th>  <th>[0.025</th>    <th>0.975]</th>  \n",
       "</tr>\n",
       "<tr>\n",
       "  <th>Intercept</th> <td>   -2.5956</td> <td>    0.174</td> <td>  -14.877</td> <td> 0.000</td> <td>   -2.938</td> <td>   -2.254</td>\n",
       "</tr>\n",
       "<tr>\n",
       "  <th>x1</th>        <td>    0.5228</td> <td>    0.032</td> <td>   16.410</td> <td> 0.000</td> <td>    0.460</td> <td>    0.585</td>\n",
       "</tr>\n",
       "</table>"
      ],
      "text/plain": [
       "<class 'statsmodels.iolib.summary.Summary'>\n",
       "\"\"\"\n",
       "                           Logit Regression Results                           \n",
       "==============================================================================\n",
       "Dep. Variable:                      w   No. Observations:                 1000\n",
       "Model:                          Logit   Df Residuals:                      998\n",
       "Method:                           MLE   Df Model:                            1\n",
       "Date:                Wed, 16 Aug 2023   Pseudo R-squ.:                  0.2905\n",
       "Time:                        15:58:22   Log-Likelihood:                -491.72\n",
       "converged:                       True   LL-Null:                       -693.02\n",
       "Covariance Type:            nonrobust   LLR p-value:                 1.491e-89\n",
       "==============================================================================\n",
       "                 coef    std err          z      P>|z|      [0.025      0.975]\n",
       "------------------------------------------------------------------------------\n",
       "Intercept     -2.5956      0.174    -14.877      0.000      -2.938      -2.254\n",
       "x1             0.5228      0.032     16.410      0.000       0.460       0.585\n",
       "==============================================================================\n",
       "\"\"\""
      ]
     },
     "execution_count": 316,
     "metadata": {},
     "output_type": "execute_result"
    }
   ],
   "source": [
    "res_probit.summary()"
   ]
  },
  {
   "cell_type": "code",
   "execution_count": 294,
   "id": "7b2619ef-4331-4c79-9255-fc3bda41aa22",
   "metadata": {},
   "outputs": [
    {
     "data": {
      "text/plain": [
       "<matplotlib.legend.Legend at 0x130b2a7c0>"
      ]
     },
     "execution_count": 294,
     "metadata": {},
     "output_type": "execute_result"
    },
    {
     "data": {
      "image/png": "[encoded data removed]",
      "text/plain": [
       "<Figure size 432x288 with 1 Axes>"
      ]
     },
     "metadata": {
      "needs_background": "light"
     },
     "output_type": "display_data"
    }
   ],
   "source": [
    "df_data['propensity_score'].loc[df_data['w'] == 1].hist(alpha=0.5,label='treated')\n",
    "df_data['propensity_score'].loc[df_data['w'] == 0].hist(alpha=0.5,label='control')\n",
    "ppt.legend()"
   ]
  },
  {
   "cell_type": "code",
   "execution_count": 295,
   "id": "fd8ca46f-23b0-4522-9bf7-29dd7b5205f1",
   "metadata": {},
   "outputs": [
    {
     "data": {
      "text/plain": [
       "w\n",
       "0.0    0.316973\n",
       "1.0    0.672719\n",
       "Name: propensity_score, dtype: float64"
      ]
     },
     "execution_count": 295,
     "metadata": {},
     "output_type": "execute_result"
    }
   ],
   "source": [
    "df_data.groupby('w')['propensity_score'].mean()"
   ]
  },
  {
   "cell_type": "code",
   "execution_count": null,
   "id": "ebef3503-faf4-4bdd-bcbd-ca656b617891",
   "metadata": {},
   "outputs": [],
   "source": [
    "\n",
    "\n",
    "# outcome model\n",
    "formula_outcome = 'bweight ~ prenatal1_ + mmarried_ + mage + fbaby_'\n",
    "mod = OLS.from_formula(formula_outcome, dta_cat)\n",
    "\n",
    "# treatment indicator variable\n",
    "tind = np.asarray(dta_cat['mbsmoke_'])\n",
    "\n",
    "teff = TreatmentEffect(mod, tind, results_select=res_probit)"
   ]
  },
  {
   "cell_type": "code",
   "execution_count": null,
   "id": "0c6b8601-956d-4cb0-baf9-fb93300866a6",
   "metadata": {},
   "outputs": [],
   "source": []
  },
  {
   "cell_type": "code",
   "execution_count": null,
   "id": "74c459e7-b3ac-40da-9bc6-a466766603eb",
   "metadata": {},
   "outputs": [],
   "source": []
  },
  {
   "cell_type": "code",
   "execution_count": null,
   "id": "a749438b-4d4a-4179-9758-b6e4a71d748d",
   "metadata": {},
   "outputs": [],
   "source": []
  },
  {
   "cell_type": "code",
   "execution_count": null,
   "id": "287d72e3-88cb-46cf-ab6c-782a3a4d65e8",
   "metadata": {},
   "outputs": [],
   "source": []
  }
 ],
 "metadata": {
  "kernelspec": {
   "display_name": "venv",
   "language": "python",
   "name": "venv"
  },
  "language_info": {
   "codemirror_mode": {
    "name": "ipython",
    "version": 3
   },
   "file_extension": ".py",
   "mimetype": "text/x-python",
   "name": "python",
   "nbconvert_exporter": "python",
   "pygments_lexer": "ipython3",
   "version": "3.8.9"
  }
 },
 "nbformat": 4,
 "nbformat_minor": 5
}
