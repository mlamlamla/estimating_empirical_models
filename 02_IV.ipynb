{
 "cells": [
  {
   "cell_type": "code",
   "execution_count": 1,
   "id": "274d0929",
   "metadata": {},
   "outputs": [],
   "source": [
    "import pandas as pd\n",
    "pd.options.mode.chained_assignment = None  # default='warn'\n",
    "import numpy as np\n",
    "import matplotlib.pyplot as ppt\n",
    "from sklearn import linear_model\n",
    "import statsmodels.api as sm\n",
    "from stargazer.stargazer import Stargazer\n",
    "from linearmodels import OLS\n",
    "from linearmodels import PanelOLS\n",
    "from linearmodels import PooledOLS, IV2SLS\n",
    "from statsmodels.stats.diagnostic import het_white, het_breuschpagan\n",
    "from statsmodels.stats.stattools import durbin_watson"
   ]
  },
  {
   "cell_type": "markdown",
   "id": "55d6cdf9",
   "metadata": {},
   "source": [
    "More formally, a variable z is called an instrument or instrumental variable for the regressor x in the scalar regression model y = x+u if (1) z is uncorrelated with the error u;and (2) z is correlated with the regressor x.\n",
    "\n",
    "http://cameron.econ.ucdavis.edu/e240a/ch04iv.pdf"
   ]
  },
  {
   "cell_type": "code",
   "execution_count": 2,
   "id": "e79a86aa",
   "metadata": {},
   "outputs": [
    {
     "data": {
      "text/html": [
       "<div>\n",
       "<style scoped>\n",
       "    .dataframe tbody tr th:only-of-type {\n",
       "        vertical-align: middle;\n",
       "    }\n",
       "\n",
       "    .dataframe tbody tr th {\n",
       "        vertical-align: top;\n",
       "    }\n",
       "\n",
       "    .dataframe thead th {\n",
       "        text-align: right;\n",
       "    }\n",
       "</style>\n",
       "<table border=\"1\" class=\"dataframe\">\n",
       "  <thead>\n",
       "    <tr style=\"text-align: right;\">\n",
       "      <th></th>\n",
       "      <th>u</th>\n",
       "      <th>z</th>\n",
       "      <th>eps_1</th>\n",
       "      <th>x</th>\n",
       "      <th>eps_2</th>\n",
       "      <th>y</th>\n",
       "      <th>const</th>\n",
       "    </tr>\n",
       "  </thead>\n",
       "  <tbody>\n",
       "    <tr>\n",
       "      <th>0</th>\n",
       "      <td>3.239249</td>\n",
       "      <td>0.188221</td>\n",
       "      <td>0.807058</td>\n",
       "      <td>4.422750</td>\n",
       "      <td>1.134344</td>\n",
       "      <td>28.543092</td>\n",
       "      <td>1.0</td>\n",
       "    </tr>\n",
       "    <tr>\n",
       "      <th>1</th>\n",
       "      <td>1.674966</td>\n",
       "      <td>4.056534</td>\n",
       "      <td>-0.623976</td>\n",
       "      <td>9.164059</td>\n",
       "      <td>-0.336001</td>\n",
       "      <td>41.345131</td>\n",
       "      <td>1.0</td>\n",
       "    </tr>\n",
       "    <tr>\n",
       "      <th>2</th>\n",
       "      <td>1.759627</td>\n",
       "      <td>0.644776</td>\n",
       "      <td>-1.658941</td>\n",
       "      <td>1.390239</td>\n",
       "      <td>0.354114</td>\n",
       "      <td>11.193950</td>\n",
       "      <td>1.0</td>\n",
       "    </tr>\n",
       "    <tr>\n",
       "      <th>3</th>\n",
       "      <td>1.021257</td>\n",
       "      <td>8.053543</td>\n",
       "      <td>-0.681322</td>\n",
       "      <td>16.447021</td>\n",
       "      <td>-0.097981</td>\n",
       "      <td>68.753876</td>\n",
       "      <td>1.0</td>\n",
       "    </tr>\n",
       "    <tr>\n",
       "      <th>4</th>\n",
       "      <td>5.954716</td>\n",
       "      <td>9.260877</td>\n",
       "      <td>-0.073081</td>\n",
       "      <td>24.403389</td>\n",
       "      <td>-1.177226</td>\n",
       "      <td>114.300479</td>\n",
       "      <td>1.0</td>\n",
       "    </tr>\n",
       "  </tbody>\n",
       "</table>\n",
       "</div>"
      ],
      "text/plain": [
       "          u         z     eps_1          x     eps_2           y  const\n",
       "0  3.239249  0.188221  0.807058   4.422750  1.134344   28.543092    1.0\n",
       "1  1.674966  4.056534 -0.623976   9.164059 -0.336001   41.345131    1.0\n",
       "2  1.759627  0.644776 -1.658941   1.390239  0.354114   11.193950    1.0\n",
       "3  1.021257  8.053543 -0.681322  16.447021 -0.097981   68.753876    1.0\n",
       "4  5.954716  9.260877 -0.073081  24.403389 -1.177226  114.300479    1.0"
      ]
     },
     "execution_count": 2,
     "metadata": {},
     "output_type": "execute_result"
    }
   ],
   "source": [
    "# Create data\n",
    "a = 1.\n",
    "b = 2.\n",
    "c = 3.\n",
    "d = 4.\n",
    "sigma = 1.\n",
    "df_panel = pd.DataFrame(index=range(1000))\n",
    "df_panel['u'] = np.random.uniform(0, 10, df_panel.shape[0])\n",
    "df_panel['z'] = np.random.uniform(0, 10, df_panel.shape[0])\n",
    "df_panel['eps_1'] = np.random.normal(0, sigma, df_panel.shape[0])\n",
    "df_panel['x'] = a*df_panel['u'] + b*df_panel['z'] + df_panel['eps_1']\n",
    "df_panel['eps_2'] = np.random.normal(0, sigma, df_panel.shape[0])\n",
    "df_panel['y'] = c*df_panel['u'] + d*df_panel['x'] + df_panel['eps_2']\n",
    "df_panel['const'] = 1.\n",
    "df_panel.head()"
   ]
  },
  {
   "cell_type": "markdown",
   "id": "ea3e5779",
   "metadata": {},
   "source": [
    "## Without IV: over-estimates coefficient of x"
   ]
  },
  {
   "cell_type": "code",
   "execution_count": 9,
   "id": "c5741e10",
   "metadata": {},
   "outputs": [
    {
     "name": "stdout",
     "output_type": "stream",
     "text": [
      "                            OLS Estimation Summary                            \n",
      "==============================================================================\n",
      "Dep. Variable:                      y   R-squared:                      0.9376\n",
      "Estimator:                        OLS   Adj. R-squared:                 0.9375\n",
      "No. Observations:                1000   F-statistic:                 2.393e+04\n",
      "Date:                Fri, Jul 09 2021   P-value (F-stat)                0.0000\n",
      "Time:                        09:57:37   Distribution:                  chi2(1)\n",
      "Cov. Estimator:                robust                                         \n",
      "                                                                              \n",
      "                             Parameter Estimates                              \n",
      "==============================================================================\n",
      "            Parameter  Std. Err.     T-stat    P-value    Lower CI    Upper CI\n",
      "------------------------------------------------------------------------------\n",
      "const          6.0986     0.5116     11.920     0.0000      5.0959      7.1014\n",
      "x              4.6241     0.0299     154.68     0.0000      4.5655      4.6827\n",
      "==============================================================================\n"
     ]
    }
   ],
   "source": [
    "# With no instrument\n",
    "dep = df_panel['y']\n",
    "exog = df_panel[['const','x']]\n",
    "mod = OLS(dep, exog) #, entity_effects=True,time_effects=True)\n",
    "res = mod.fit() #cov_type='clustered', cluster_entity=True)\n",
    "print(res)"
   ]
  },
  {
   "cell_type": "code",
   "execution_count": 10,
   "id": "c8761c2b",
   "metadata": {},
   "outputs": [
    {
     "name": "stdout",
     "output_type": "stream",
     "text": [
      "                            OLS Estimation Summary                            \n",
      "==============================================================================\n",
      "Dep. Variable:                      y   R-squared:                      0.9376\n",
      "Estimator:                        OLS   Adj. R-squared:                 0.9375\n",
      "No. Observations:                1000   F-statistic:                 2.393e+04\n",
      "Date:                Fri, Jul 09 2021   P-value (F-stat)                0.0000\n",
      "Time:                        09:57:51   Distribution:                  chi2(1)\n",
      "Cov. Estimator:                robust                                         \n",
      "                                                                              \n",
      "                             Parameter Estimates                              \n",
      "==============================================================================\n",
      "            Parameter  Std. Err.     T-stat    P-value    Lower CI    Upper CI\n",
      "------------------------------------------------------------------------------\n",
      "const          6.0986     0.5116     11.920     0.0000      5.0959      7.1014\n",
      "x              4.6241     0.0299     154.68     0.0000      4.5655      4.6827\n",
      "==============================================================================\n"
     ]
    }
   ],
   "source": [
    "## Alternatively : Two step regression without instruments --> Leads to the same result\n",
    "dep = df_panel['y']\n",
    "exog = df_panel[['const','x']]\n",
    "mod = IV2SLS(dep, exog, None, None) #, entity_effects=True,time_effects=True)\n",
    "res = mod.fit() #cov_type='clustered', cluster_entity=True)\n",
    "print(res)"
   ]
  },
  {
   "cell_type": "markdown",
   "id": "b09721b0",
   "metadata": {},
   "source": [
    "## With IV: manual two-step regression"
   ]
  },
  {
   "cell_type": "code",
   "execution_count": 11,
   "id": "fc96a87a",
   "metadata": {},
   "outputs": [
    {
     "name": "stdout",
     "output_type": "stream",
     "text": [
      "                            OLS Estimation Summary                            \n",
      "==============================================================================\n",
      "Dep. Variable:                      y   R-squared:                      0.5485\n",
      "Estimator:                        OLS   Adj. R-squared:                 0.5480\n",
      "No. Observations:                1000   F-statistic:                    1218.4\n",
      "Date:                Fri, Jul 09 2021   P-value (F-stat)                0.0000\n",
      "Time:                        09:58:30   Distribution:                  chi2(1)\n",
      "Cov. Estimator:                robust                                         \n",
      "                                                                              \n",
      "                             Parameter Estimates                              \n",
      "==============================================================================\n",
      "            Parameter  Std. Err.     T-stat    P-value    Lower CI    Upper CI\n",
      "------------------------------------------------------------------------------\n",
      "const          35.932     1.3192     27.239     0.0000      33.347      38.518\n",
      "z              8.0007     0.2292     34.906     0.0000      7.5515      8.4500\n",
      "==============================================================================\n"
     ]
    }
   ],
   "source": [
    "# With instrument\n",
    "exog = df_panel[['const','z']]\n",
    "endog = df_panel['y']\n",
    "mod = OLS(endog, exog) #, entity_effects=True,time_effects=True)\n",
    "res = mod.fit() #cov_type='clustered', cluster_entity=True)\n",
    "print(res)"
   ]
  },
  {
   "cell_type": "code",
   "execution_count": 12,
   "id": "2db496da",
   "metadata": {
    "scrolled": true
   },
   "outputs": [
    {
     "name": "stdout",
     "output_type": "stream",
     "text": [
      "                            OLS Estimation Summary                            \n",
      "==============================================================================\n",
      "Dep. Variable:                      x   R-squared:                      0.7728\n",
      "Estimator:                        OLS   Adj. R-squared:                 0.7725\n",
      "No. Observations:                1000   F-statistic:                    3377.7\n",
      "Date:                Fri, Jul 09 2021   P-value (F-stat)                0.0000\n",
      "Time:                        09:58:30   Distribution:                  chi2(1)\n",
      "Cov. Estimator:                robust                                         \n",
      "                                                                              \n",
      "                             Parameter Estimates                              \n",
      "==============================================================================\n",
      "            Parameter  Std. Err.     T-stat    P-value    Lower CI    Upper CI\n",
      "------------------------------------------------------------------------------\n",
      "const          5.1962     0.1976     26.298     0.0000      4.8089      5.5835\n",
      "z              1.9886     0.0342     58.118     0.0000      1.9216      2.0557\n",
      "==============================================================================\n"
     ]
    }
   ],
   "source": [
    "exog = df_panel[['const','z']]\n",
    "endog = df_panel['x']\n",
    "mod = OLS(endog, exog) #, entity_effects=True,time_effects=True)\n",
    "res = mod.fit() #cov_type='clustered', cluster_entity=True)\n",
    "print(res)"
   ]
  },
  {
   "cell_type": "markdown",
   "id": "d978e79a",
   "metadata": {},
   "source": [
    "Result is given by dividing coefficient of z on y by the coefficient of z on x"
   ]
  },
  {
   "cell_type": "code",
   "execution_count": 13,
   "id": "1947fc35",
   "metadata": {},
   "outputs": [
    {
     "data": {
      "text/plain": [
       "4.023282711455296"
      ]
     },
     "execution_count": 13,
     "metadata": {},
     "output_type": "execute_result"
    }
   ],
   "source": [
    "8.0007/1.9886"
   ]
  },
  {
   "cell_type": "markdown",
   "id": "924e8e35",
   "metadata": {},
   "source": [
    "## With IV: using linearmodels' IV2SLS"
   ]
  },
  {
   "cell_type": "code",
   "execution_count": 16,
   "id": "ea9527dd",
   "metadata": {},
   "outputs": [
    {
     "name": "stdout",
     "output_type": "stream",
     "text": [
      "                          IV-2SLS Estimation Summary                          \n",
      "==============================================================================\n",
      "Dep. Variable:                      y   R-squared:                      0.9217\n",
      "Estimator:                    IV-2SLS   Adj. R-squared:                 0.9217\n",
      "No. Observations:                1000   F-statistic:                    7093.1\n",
      "Date:                Fri, Jul 09 2021   P-value (F-stat)                0.0000\n",
      "Time:                        10:00:46   Distribution:                  chi2(1)\n",
      "Cov. Estimator:                robust                                         \n",
      "                                                                              \n",
      "                             Parameter Estimates                              \n",
      "==============================================================================\n",
      "            Parameter  Std. Err.     T-stat    P-value    Lower CI    Upper CI\n",
      "------------------------------------------------------------------------------\n",
      "const          15.027     0.7680     19.567     0.0000      13.522      16.532\n",
      "x              4.0232     0.0478     84.221     0.0000      3.9296      4.1168\n",
      "==============================================================================\n",
      "\n",
      "Endogenous: x\n",
      "Instruments: z\n",
      "Robust Covariance (Heteroskedastic)\n",
      "Debiased: False\n"
     ]
    }
   ],
   "source": [
    "## Two step regression\n",
    "mod = IV2SLS(df_panel.y, df_panel.const, df_panel.x, df_panel.z) #, entity_effects=True,time_effects=True)\n",
    "res = mod.fit() #cov_type='clustered', cluster_entity=True)\n",
    "print(res)"
   ]
  },
  {
   "cell_type": "code",
   "execution_count": null,
   "id": "3a691def",
   "metadata": {},
   "outputs": [],
   "source": []
  }
 ],
 "metadata": {
  "kernelspec": {
   "display_name": "venv",
   "language": "python",
   "name": "venv"
  },
  "language_info": {
   "codemirror_mode": {
    "name": "ipython",
    "version": 3
   },
   "file_extension": ".py",
   "mimetype": "text/x-python",
   "name": "python",
   "nbconvert_exporter": "python",
   "pygments_lexer": "ipython3",
   "version": "3.8.9"
  }
 },
 "nbformat": 4,
 "nbformat_minor": 5
}
