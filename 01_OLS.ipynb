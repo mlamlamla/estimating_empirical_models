{
 "cells": [
  {
   "cell_type": "code",
   "execution_count": 8,
   "id": "21b19548",
   "metadata": {},
   "outputs": [],
   "source": [
    "import pandas as pd\n",
    "pd.options.mode.chained_assignment = None  # default='warn'\n",
    "import numpy as np\n",
    "import matplotlib.pyplot as ppt\n",
    "from sklearn import linear_model\n",
    "import statsmodels.api as sm\n",
    "from stargazer.stargazer import Stargazer\n",
    "from linearmodels import OLS\n",
    "import evaluation_functions"
   ]
  },
  {
   "cell_type": "markdown",
   "id": "d8e8a6c8",
   "metadata": {},
   "source": [
    "## Create data"
   ]
  },
  {
   "cell_type": "code",
   "execution_count": 22,
   "id": "b05256c1",
   "metadata": {},
   "outputs": [
    {
     "data": {
      "text/html": [
       "<div>\n",
       "<style scoped>\n",
       "    .dataframe tbody tr th:only-of-type {\n",
       "        vertical-align: middle;\n",
       "    }\n",
       "\n",
       "    .dataframe tbody tr th {\n",
       "        vertical-align: top;\n",
       "    }\n",
       "\n",
       "    .dataframe thead th {\n",
       "        text-align: right;\n",
       "    }\n",
       "</style>\n",
       "<table border=\"1\" class=\"dataframe\">\n",
       "  <thead>\n",
       "    <tr style=\"text-align: right;\">\n",
       "      <th></th>\n",
       "      <th>x</th>\n",
       "      <th>eps</th>\n",
       "      <th>y</th>\n",
       "    </tr>\n",
       "  </thead>\n",
       "  <tbody>\n",
       "    <tr>\n",
       "      <th>0</th>\n",
       "      <td>4</td>\n",
       "      <td>-1.056967</td>\n",
       "      <td>16.943033</td>\n",
       "    </tr>\n",
       "    <tr>\n",
       "      <th>1</th>\n",
       "      <td>4</td>\n",
       "      <td>0.130269</td>\n",
       "      <td>18.130269</td>\n",
       "    </tr>\n",
       "    <tr>\n",
       "      <th>2</th>\n",
       "      <td>4</td>\n",
       "      <td>-1.837325</td>\n",
       "      <td>16.162675</td>\n",
       "    </tr>\n",
       "    <tr>\n",
       "      <th>3</th>\n",
       "      <td>1</td>\n",
       "      <td>-1.137254</td>\n",
       "      <td>10.862746</td>\n",
       "    </tr>\n",
       "    <tr>\n",
       "      <th>4</th>\n",
       "      <td>7</td>\n",
       "      <td>-2.099389</td>\n",
       "      <td>21.900611</td>\n",
       "    </tr>\n",
       "  </tbody>\n",
       "</table>\n",
       "</div>"
      ],
      "text/plain": [
       "   x       eps          y\n",
       "0  4 -1.056967  16.943033\n",
       "1  4  0.130269  18.130269\n",
       "2  4 -1.837325  16.162675\n",
       "3  1 -1.137254  10.862746\n",
       "4  7 -2.099389  21.900611"
      ]
     },
     "execution_count": 22,
     "metadata": {},
     "output_type": "execute_result"
    }
   ],
   "source": [
    "# Create data\n",
    "df_data = pd.DataFrame(index=range(100))\n",
    "a_true = 10.\n",
    "b_true = 2.\n",
    "sigma = 1.\n",
    "df_data['x'] = np.random.randint(0, 10, df_data.shape[0])\n",
    "df_data['eps'] = np.random.normal(0, sigma, df_data.shape[0])\n",
    "df_data['y'] = a_true + b_true*df_data['x'] + df_data['eps']\n",
    "df_data.head()"
   ]
  },
  {
   "cell_type": "markdown",
   "id": "1bd2fe2c",
   "metadata": {},
   "source": [
    "## Estimate model"
   ]
  },
  {
   "cell_type": "code",
   "execution_count": 23,
   "id": "87610fc7",
   "metadata": {},
   "outputs": [
    {
     "name": "stdout",
     "output_type": "stream",
     "text": [
      "                            OLS Estimation Summary                            \n",
      "==============================================================================\n",
      "Dep. Variable:                      y   R-squared:                      0.9631\n",
      "Estimator:                        OLS   Adj. R-squared:                 0.9628\n",
      "No. Observations:                 100   F-statistic:                    2021.7\n",
      "Date:                Fri, Jul 09 2021   P-value (F-stat)                0.0000\n",
      "Time:                        09:55:06   Distribution:                  chi2(1)\n",
      "Cov. Estimator:                robust                                         \n",
      "                                                                              \n",
      "                             Parameter Estimates                              \n",
      "==============================================================================\n",
      "            Parameter  Std. Err.     T-stat    P-value    Lower CI    Upper CI\n",
      "------------------------------------------------------------------------------\n",
      "const          9.8717     0.2025     48.756     0.0000      9.4749      10.269\n",
      "x              1.9984     0.0444     44.964     0.0000      1.9113      2.0855\n",
      "==============================================================================\n"
     ]
    }
   ],
   "source": [
    "exog = df_data['x']\n",
    "exog = sm.add_constant(exog)\n",
    "endog = df_data['y']\n",
    "mod = OLS(endog, exog) #, entity_effects=True,time_effects=True)\n",
    "res = mod.fit() #cov_type='clustered', cluster_entity=True)\n",
    "a_est = res.params[0]\n",
    "b_est = res.params[1]\n",
    "print(res)"
   ]
  },
  {
   "cell_type": "markdown",
   "id": "2ed76f01",
   "metadata": {},
   "source": [
    "## Plot data and model"
   ]
  },
  {
   "cell_type": "code",
   "execution_count": 24,
   "id": "407a3684",
   "metadata": {},
   "outputs": [
    {
     "data": {
      "image/png": "[encoded data removed]",
      "text/plain": [
       "<Figure size 432x288 with 1 Axes>"
      ]
     },
     "metadata": {
      "needs_background": "light"
     },
     "output_type": "display_data"
    }
   ],
   "source": [
    "fig, ax = ppt.subplots()\n",
    "ax.scatter(df_data['x'], df_data['y'], marker='x', color = 'blue')\n",
    "ax.plot(df_data['x'], a_true + b_true*df_data['x'], color='green', label='True model')\n",
    "ax.plot(df_data['x'], a_est + b_est*df_data['x'], color='red', label='Estimated model')\n",
    "ax.set_xlabel('Independent Variable', fontsize = 15)\n",
    "ax.set_ylabel('Dependent Variable', fontsize = 15)\n",
    "ppt.legend()\n",
    "ppt.show()"
   ]
  },
  {
   "cell_type": "code",
   "execution_count": null,
   "id": "ac5b8b70",
   "metadata": {},
   "outputs": [],
   "source": []
  }
 ],
 "metadata": {
  "kernelspec": {
   "display_name": "venv",
   "language": "python",
   "name": "venv"
  },
  "language_info": {
   "codemirror_mode": {
    "name": "ipython",
    "version": 3
   },
   "file_extension": ".py",
   "mimetype": "text/x-python",
   "name": "python",
   "nbconvert_exporter": "python",
   "pygments_lexer": "ipython3",
   "version": "3.8.2"
  }
 },
 "nbformat": 4,
 "nbformat_minor": 5
}
